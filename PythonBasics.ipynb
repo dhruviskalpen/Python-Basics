{
 "cells": [
  {
   "cell_type": "code",
   "execution_count": 1,
   "metadata": {
    "ExecuteTime": {
     "end_time": "2019-01-23T07:15:50.945256Z",
     "start_time": "2019-01-23T07:15:50.940380Z"
    }
   },
   "outputs": [
    {
     "name": "stdout",
     "output_type": "stream",
     "text": [
      "sin(45) = 0.8509035245341184\n"
     ]
    }
   ],
   "source": [
    "# 1. By directly import\n",
    "import math\n",
    "print(\"sin(45) =\",math.sin(45))\n"
   ]
  },
  {
   "cell_type": "markdown",
   "metadata": {},
   "source": [
    "# String Manipulations <a name = \"string_ops\"></a>"
   ]
  },
  {
   "cell_type": "markdown",
   "metadata": {},
   "source": [
    "### Creating Strings <a name=\"String_creation\"/>\n",
    "Strings are amongst the most popular types in Python. We can create them simply by enclosing characters in quotes. Python treats single quotes the same as double quotes. Creating strings is as simple as assigning a value to a variable."
   ]
  },
  {
   "cell_type": "code",
   "execution_count": 3,
   "metadata": {},
   "outputs": [
    {
     "name": "stdout",
     "output_type": "stream",
     "text": [
      "my_string\n"
     ]
    }
   ],
   "source": [
    "#Create a String\n",
    "string = \"my_string\"\n",
    "print(string)"
   ]
  },
  {
   "cell_type": "markdown",
   "metadata": {},
   "source": [
    "### Accessing the String elements<a name=\"access\"/>\n",
    "\n",
    "Strings can be indexed like a list."
   ]
  },
  {
   "cell_type": "code",
   "execution_count": 5,
   "metadata": {},
   "outputs": [
    {
     "name": "stdout",
     "output_type": "stream",
     "text": [
      "U D F\n"
     ]
    }
   ],
   "source": [
    "# Accessing items of string by index\n",
    "short_form = \"User Defined Function\"\n",
    "print(short_form[0], short_form[5], short_form[13])"
   ]
  },
  {
   "cell_type": "markdown",
   "metadata": {},
   "source": [
    "### Length of the String <a name=\"length\"/>"
   ]
  },
  {
   "cell_type": "code",
   "execution_count": 6,
   "metadata": {},
   "outputs": [
    {
     "name": "stdout",
     "output_type": "stream",
     "text": [
      "Length of string: 21\n"
     ]
    }
   ],
   "source": [
    "# Finding the length of the string\n",
    "print(\"Length of string:\",len(short_form))"
   ]
  },
  {
   "cell_type": "markdown",
   "metadata": {},
   "source": [
    "### Slicing a String <a name=\"slice\"></a>\n",
    "\n",
    "\"[ : ]\"\tRange Slice - Gives the characters from the given range"
   ]
  },
  {
   "cell_type": "code",
   "execution_count": 7,
   "metadata": {},
   "outputs": [
    {
     "name": "stdout",
     "output_type": "stream",
     "text": [
      "Sliced String: User\n"
     ]
    }
   ],
   "source": [
    "#Slicing the string\n",
    "print(\"Sliced String:\",short_form[0:4])"
   ]
  },
  {
   "cell_type": "markdown",
   "metadata": {
    "nbpresent": {
     "id": "1556b424-56ea-4c97-bc24-b45cd13297bf"
    }
   },
   "source": [
    "# Decision Syntax <a name=\"loops\"></a>"
   ]
  },
  {
   "cell_type": "markdown",
   "metadata": {
    "nbpresent": {
     "id": "1556b424-56ea-4c97-bc24-b45cd13297bf"
    }
   },
   "source": [
    "## if, elif, else <a name=\"if\"/>\n",
    "\n",
    "* Python uses __if__ statements to run code if a certain condition holds _True_, otherwise they aren't.\n",
    "\n",
    "* __NOTE__: Python uses __indentation__ (white space at the beginning of a line) to delimit blocks of code. Other languages, such as C, use curly braces to accomplish this, but in Python, indentation is mandatory; programs won't work without it.\n",
    "\n",
    "* __To perform more complex checks__, _if_ statements can be __nested__, one inside the other. This means that the inner _if_ statement is the statement part of the outer one.\n",
    "\n",
    "* An __else__ statement follows an _if_ statement, and contains code that is called when the _if_ statement evaluates to _False_.\n",
    "\n",
    "* The __elif__ (short for else if) statement is a shortcut to use when __chaining if and else statements__. A series of _if elif_ statements can have a final else block, which is called if none of the _if_ or _elif_ expressions is _True_."
   ]
  },
  {
   "cell_type": "code",
   "execution_count": 75,
   "metadata": {
    "ExecuteTime": {
     "end_time": "2019-02-20T07:02:00.084857Z",
     "start_time": "2019-02-20T07:01:56.810846Z"
    },
    "scrolled": true
   },
   "outputs": [
    {
     "name": "stdout",
     "output_type": "stream",
     "text": [
      "Enter a number: 5\n",
      "Odd number\n"
     ]
    }
   ],
   "source": [
    "num = int(input(\"Enter a number: \"))\n",
    "\n",
    "if num%2 == 0:\n",
    "    print(\"Even number\")\n",
    "else:\n",
    "    print(\"Odd number\")"
   ]
  },
  {
   "cell_type": "code",
   "execution_count": null,
   "metadata": {
    "collapsed": true
   },
   "outputs": [],
   "source": [
    "# create the following if statement.\n",
    "# If num > 5 then large. If num >=2 then medium. Else small\n",
    "\n"
   ]
  },
  {
   "cell_type": "markdown",
   "metadata": {
    "nbpresent": {
     "id": "1556b424-56ea-4c97-bc24-b45cd13297bf"
    }
   },
   "source": [
    "# Flow Control <a name=\"loops\"></a>"
   ]
  },
  {
   "cell_type": "markdown",
   "metadata": {
    "nbpresent": {
     "id": "bfd512d0-9890-4ccc-9c79-d9fe9920c24e"
    }
   },
   "source": [
    "## for <a name=\"for\"/>\n",
    "\n",
    "* The __for__ loop is commonly used to repeat some code a certain number of times on an object known as __iterator__. This is done by combining for loops with __range__ objects.<sup>[[1]](https://medium.com/@tamoghnasaha.22/a-not-so-quick-but-conceptual-guide-to-python-notebook-intermediate-part-1-affd908a2a49)</sup>\n",
    "\n",
    "* The function range by default starts counting from 0 and goes up to the n-th value i.e. till (n-1). Its first parameter is the starting point, second one is the ending point (n-th value), and the optional third is the step value."
   ]
  },
  {
   "cell_type": "code",
   "execution_count": 10,
   "metadata": {
    "ExecuteTime": {
     "end_time": "2019-02-20T07:04:43.002702Z",
     "start_time": "2019-02-20T07:04:42.992617Z"
    },
    "nbpresent": {
     "id": "47c6fafd-29ec-4a5d-b93d-40667f17f638"
    }
   },
   "outputs": [
    {
     "name": "stdout",
     "output_type": "stream",
     "text": [
      "2\n",
      "3\n",
      "4\n",
      "5\n",
      "6\n",
      "7\n",
      "8\n",
      "9\n"
     ]
    }
   ],
   "source": [
    "# example of for loop\n",
    "for i in range(2,10):\n",
    "    print(i)"
   ]
  },
  {
   "cell_type": "code",
   "execution_count": 11,
   "metadata": {},
   "outputs": [
    {
     "name": "stdout",
     "output_type": "stream",
     "text": [
      "dhruv\n",
      "jesse\n",
      "floyd\n",
      "brionne\n"
     ]
    }
   ],
   "source": [
    "# create a list of students \n",
    "#create a for loop to print list of all students in class\n",
    "\n",
    "students = [\"dhruv\",\"jesse\",\"floyd\",\"brionne\"]\n",
    "for i in students:\n",
    "    print(i)"
   ]
  },
  {
   "cell_type": "markdown",
   "metadata": {
    "nbpresent": {
     "id": "09c2cf4d-888e-4de6-bee6-4a393af63a61"
    }
   },
   "source": [
    "## while <a name=\"while\"/>\n",
    "\n",
    "An __if__ statement is __run once__ if its condition evaluates to _True_. A __while__ statement is similar, except that it can be __run more than once__. The statements inside it are repeatedly executed, as long as the condition holds _True_. Once it evaluates to False, the next section of code is executed.<sup>[2](https://quizlet.com/176980250/java-loop-control-flash-cards/)</sup>"
   ]
  },
  {
   "cell_type": "code",
   "execution_count": 12,
   "metadata": {
    "nbpresent": {
     "id": "ece2f047-ac61-4064-a925-c25fa68b999d"
    }
   },
   "outputs": [
    {
     "name": "stdout",
     "output_type": "stream",
     "text": [
      "1\n",
      "2\n",
      "3\n",
      "4\n",
      "5\n"
     ]
    }
   ],
   "source": [
    "current_value = 1\n",
    "while current_value <= 5:\n",
    "    print(current_value)\n",
    "    current_value += 1"
   ]
  },
  {
   "cell_type": "code",
   "execution_count": 13,
   "metadata": {},
   "outputs": [
    {
     "name": "stdout",
     "output_type": "stream",
     "text": [
      "Enter Name\n",
      "\n",
      "Enter Name\n",
      "\n",
      "Enter Name\n",
      "\n",
      "Enter Name\n",
      "\n",
      "Enter Name\n",
      "\n",
      "Enter Name\n",
      "\n",
      "Enter NameDAS\n",
      "DAS\n",
      "Enter NameDhruv\n"
     ]
    }
   ],
   "source": [
    "# create a while loop where you keep entering a new name and the loop only stops when you enter your own name\n",
    "current_value = input(\"Enter Name\")\n",
    "while current_value != \"Dhruv\":\n",
    "    print(current_value)\n",
    "    current_value = input(\"Enter Name\")"
   ]
  },
  {
   "cell_type": "markdown",
   "metadata": {
    "nbpresent": {
     "id": "4562b3d5-730c-4fb2-b2a7-74ec50161634"
    }
   },
   "source": [
    "# Lists <a name=\"list\"/>\n",
    "\n",
    "List used to store items with indexes. It is created using __square brackets__ with commas separating the items. A certain item from the list can be accessed using it's index number.\n",
    "\n",
    "An empty list is created using an empty pair of square brackets.\n"
   ]
  },
  {
   "cell_type": "code",
   "execution_count": 14,
   "metadata": {
    "ExecuteTime": {
     "end_time": "2019-02-18T08:16:51.398988Z",
     "start_time": "2019-02-18T08:16:51.383740Z"
    },
    "collapsed": true,
    "nbpresent": {
     "id": "a6e43b3b-3bb6-4a7a-9b7e-281840d1f6b2"
    }
   },
   "outputs": [],
   "source": [
    "#Creating lists\n",
    "list_1 = [1,2,3,4]"
   ]
  },
  {
   "cell_type": "code",
   "execution_count": 15,
   "metadata": {
    "ExecuteTime": {
     "end_time": "2019-02-18T08:16:51.398988Z",
     "start_time": "2019-02-18T08:16:51.383740Z"
    },
    "nbpresent": {
     "id": "a6e43b3b-3bb6-4a7a-9b7e-281840d1f6b2"
    }
   },
   "outputs": [
    {
     "name": "stdout",
     "output_type": "stream",
     "text": [
      "[1, 2, 3, 4]\n",
      "list_1[0] :  1\n"
     ]
    }
   ],
   "source": [
    "#printing lists\n",
    "print(list_1)\n",
    "\n",
    "# Printing specific elements of lists uisng indexes\n",
    "print(\"list_1[0] : \",list_1[0])\n"
   ]
  },
  {
   "cell_type": "markdown",
   "metadata": {},
   "source": [
    "## Operations on Lists"
   ]
  },
  {
   "cell_type": "code",
   "execution_count": 16,
   "metadata": {
    "ExecuteTime": {
     "end_time": "2019-02-18T08:18:54.107399Z",
     "start_time": "2019-02-18T08:18:54.099296Z"
    },
    "collapsed": true,
    "nbpresent": {
     "id": "3b34c646-ac53-41f9-8f8e-c5f4b81f65ad"
    }
   },
   "outputs": [],
   "source": [
    "# Creating list\n",
    "num_list = [1,2,3]"
   ]
  },
  {
   "cell_type": "code",
   "execution_count": 17,
   "metadata": {
    "ExecuteTime": {
     "end_time": "2019-02-18T08:18:54.107399Z",
     "start_time": "2019-02-18T08:18:54.099296Z"
    },
    "nbpresent": {
     "id": "3b34c646-ac53-41f9-8f8e-c5f4b81f65ad"
    }
   },
   "outputs": [
    {
     "name": "stdout",
     "output_type": "stream",
     "text": [
      "Adding [4,5,6] and num1: [1, 2, 3, 4, 5, 6]\n"
     ]
    }
   ],
   "source": [
    "# Addition operator on list\n",
    "added_list = num_list + [4,5,6]\n",
    "print(\"Adding [4,5,6] and num1:\",added_list)"
   ]
  },
  {
   "cell_type": "code",
   "execution_count": 18,
   "metadata": {},
   "outputs": [
    {
     "data": {
      "text/plain": [
       "[1, 2, 3, 4, 5, 6, 'Dhruv']"
      ]
     },
     "execution_count": 18,
     "metadata": {},
     "output_type": "execute_result"
    }
   ],
   "source": [
    "# Add your own name to the list\n",
    "added_lists = added_list + [\"Dhruv\"]\n",
    "added_lists"
   ]
  },
  {
   "cell_type": "markdown",
   "metadata": {},
   "source": [
    "### List functions and methods"
   ]
  },
  {
   "cell_type": "code",
   "execution_count": 19,
   "metadata": {
    "collapsed": true,
    "nbpresent": {
     "id": "514f35e0-d4c1-4243-9b25-77c5b80e94d9"
    }
   },
   "outputs": [],
   "source": [
    "# Creating a list\n",
    "num = [3,4,6,10]\n"
   ]
  },
  {
   "cell_type": "code",
   "execution_count": 20,
   "metadata": {
    "nbpresent": {
     "id": "514f35e0-d4c1-4243-9b25-77c5b80e94d9"
    }
   },
   "outputs": [
    {
     "name": "stdout",
     "output_type": "stream",
     "text": [
      "[3, 4, 6, 10, 4]\n"
     ]
    }
   ],
   "source": [
    "# Adding the elements\n",
    "num.append(4)\n",
    "print(num)"
   ]
  },
  {
   "cell_type": "code",
   "execution_count": 21,
   "metadata": {
    "nbpresent": {
     "id": "8100a6b2-bc15-40a1-b3cf-40f58a40f14d"
    }
   },
   "outputs": [
    {
     "name": "stdout",
     "output_type": "stream",
     "text": [
      "Modified list: [4, 6, 10, 4]\n"
     ]
    }
   ],
   "source": [
    "# Removing the elements from list\n",
    "num.remove(3)\n",
    "print(\"Modified list:\",num)"
   ]
  },
  {
   "cell_type": "code",
   "execution_count": 22,
   "metadata": {
    "nbpresent": {
     "id": "1a7a56dd-7361-4e81-bec1-4a75d7c3cae7"
    }
   },
   "outputs": [
    {
     "name": "stdout",
     "output_type": "stream",
     "text": [
      "[4, 6, 10, 4, 10, -1, 6, 15]\n"
     ]
    }
   ],
   "source": [
    "# Extending list elements\n",
    "num.extend([10,-1,6,15])\n",
    "print(num)"
   ]
  },
  {
   "cell_type": "code",
   "execution_count": 23,
   "metadata": {
    "nbpresent": {
     "id": "1a7a56dd-7361-4e81-bec1-4a75d7c3cae7"
    }
   },
   "outputs": [
    {
     "name": "stdout",
     "output_type": "stream",
     "text": [
      "[-1, 4, 4, 6, 6, 10, 10, 15]\n"
     ]
    }
   ],
   "source": [
    "#sorting lists\n",
    "num.sort()\n",
    "print(num)"
   ]
  },
  {
   "cell_type": "code",
   "execution_count": 24,
   "metadata": {
    "nbpresent": {
     "id": "1a7a56dd-7361-4e81-bec1-4a75d7c3cae7"
    },
    "scrolled": true
   },
   "outputs": [
    {
     "name": "stdout",
     "output_type": "stream",
     "text": [
      "Maximum number is : 15\n"
     ]
    }
   ],
   "source": [
    "#using max to find the maximum number from a list\n",
    "print(\"Maximum number is :\",max(num))"
   ]
  },
  {
   "cell_type": "code",
   "execution_count": 25,
   "metadata": {},
   "outputs": [
    {
     "name": "stdout",
     "output_type": "stream",
     "text": [
      "New list after removing all even numbers:  [5, 18, 50]\n"
     ]
    }
   ],
   "source": [
    "#create a list of numbers 1-5\n",
    "# append the list with numbers 6-10\n",
    "# create a for loop to remove all odd numbers from the list\n",
    "# USE GOOGLE IF NEED BE\n",
    "\n",
    "\n",
    "list1 = [11, 5, 17, 18, 23, 50]  \n",
    "  \n",
    "for ele in list1: \n",
    "    if ele % 2 != 0: \n",
    "        list1.remove(ele) \n",
    "print(\"New list after removing all even numbers: \", list1) "
   ]
  },
  {
   "cell_type": "markdown",
   "metadata": {
    "nbpresent": {
     "id": "8b9ceb96-b574-4ecc-95b8-f1032d3e60ed"
    }
   },
   "source": [
    "## Dictionaries  <a name=\"dictionary\"/>\n",
    "\n",
    "Dictionaries are data structures used __to map keys to values__.\n",
    "\n",
    "Dictionaries can be indexed in the same way as lists, __using square brackets containing keys__."
   ]
  },
  {
   "cell_type": "code",
   "execution_count": 26,
   "metadata": {
    "ExecuteTime": {
     "end_time": "2019-02-20T06:41:36.910425Z",
     "start_time": "2019-02-20T06:41:36.675683Z"
    },
    "collapsed": true,
    "nbpresent": {
     "id": "418688e6-bf4e-4245-9bd4-d01524f043d6"
    }
   },
   "outputs": [],
   "source": [
    "# Creating an empty dictionary object\n",
    "empty_dict = {}"
   ]
  },
  {
   "cell_type": "code",
   "execution_count": 27,
   "metadata": {
    "ExecuteTime": {
     "end_time": "2019-02-20T06:41:36.910425Z",
     "start_time": "2019-02-20T06:41:36.675683Z"
    },
    "nbpresent": {
     "id": "418688e6-bf4e-4245-9bd4-d01524f043d6"
    }
   },
   "outputs": [
    {
     "name": "stdout",
     "output_type": "stream",
     "text": [
      "Dictionary :  {'Joker': 'Why so serious?', 'Bane': 1, 'Scarecrow': 0.05}\n"
     ]
    }
   ],
   "source": [
    "# Creating  a dictionary\n",
    "my_dict = {\"Joker\":'Why so serious?', \"Bane\": 1, \"Scarecrow\": 0.05}\n",
    "print(\"Dictionary : \",my_dict)\n"
   ]
  },
  {
   "cell_type": "code",
   "execution_count": 28,
   "metadata": {
    "ExecuteTime": {
     "end_time": "2019-02-20T06:41:36.910425Z",
     "start_time": "2019-02-20T06:41:36.675683Z"
    },
    "nbpresent": {
     "id": "418688e6-bf4e-4245-9bd4-d01524f043d6"
    }
   },
   "outputs": [
    {
     "name": "stdout",
     "output_type": "stream",
     "text": [
      "The value for key 'Joker' is :  Why so serious?\n"
     ]
    }
   ],
   "source": [
    "print(\"The value for key 'Joker' is : \",my_dict[\"Joker\"])"
   ]
  },
  {
   "cell_type": "markdown",
   "metadata": {},
   "source": [
    "### Operations on Dictionaries"
   ]
  },
  {
   "cell_type": "code",
   "execution_count": 29,
   "metadata": {
    "ExecuteTime": {
     "end_time": "2019-02-20T06:41:36.910425Z",
     "start_time": "2019-02-20T06:41:36.675683Z"
    },
    "nbpresent": {
     "id": "418688e6-bf4e-4245-9bd4-d01524f043d6"
    }
   },
   "outputs": [
    {
     "name": "stdout",
     "output_type": "stream",
     "text": [
      "Modified dictionary : {'Joker': 'Why so serious?', 'Bane': 1, 'Scarecrow': 0.05, 4: 'd'}\n"
     ]
    }
   ],
   "source": [
    "# Adding a new key-value pair\n",
    "my_dict[4] = 'd'\n",
    "print(\"Modified dictionary :\",my_dict)"
   ]
  },
  {
   "cell_type": "markdown",
   "metadata": {
    "ExecuteTime": {
     "end_time": "2019-02-20T06:45:42.939307Z",
     "start_time": "2019-02-20T06:45:42.928248Z"
    },
    "nbpresent": {
     "id": "ddd49f1c-65e0-4ded-930c-cb845f15f013"
    }
   },
   "source": [
    "#### Some dictionary functions"
   ]
  },
  {
   "cell_type": "code",
   "execution_count": 30,
   "metadata": {
    "ExecuteTime": {
     "end_time": "2019-02-20T06:45:42.939307Z",
     "start_time": "2019-02-20T06:45:42.928248Z"
    },
    "nbpresent": {
     "id": "ddd49f1c-65e0-4ded-930c-cb845f15f013"
    }
   },
   "outputs": [
    {
     "name": "stdout",
     "output_type": "stream",
     "text": [
      "False\n"
     ]
    }
   ],
   "source": [
    "print(1 in my_dict.keys()) # check if a key is available in the dictionary"
   ]
  },
  {
   "cell_type": "code",
   "execution_count": 31,
   "metadata": {
    "ExecuteTime": {
     "end_time": "2019-02-20T06:45:42.939307Z",
     "start_time": "2019-02-20T06:45:42.928248Z"
    },
    "nbpresent": {
     "id": "ddd49f1c-65e0-4ded-930c-cb845f15f013"
    }
   },
   "outputs": [
    {
     "name": "stdout",
     "output_type": "stream",
     "text": [
      "True\n"
     ]
    }
   ],
   "source": [
    "print('d' in my_dict.values()) # check if the value is available in the dictionary"
   ]
  },
  {
   "cell_type": "markdown",
   "metadata": {},
   "source": [
    "## Importing Data <a name=\"pandas_import\"/>"
   ]
  },
  {
   "cell_type": "code",
   "execution_count": 32,
   "metadata": {
    "ExecuteTime": {
     "end_time": "2019-02-06T06:52:36.948490Z",
     "start_time": "2019-02-06T06:52:34.092066Z"
    },
    "scrolled": true
   },
   "outputs": [
    {
     "data": {
      "text/html": [
       "<div>\n",
       "<style scoped>\n",
       "    .dataframe tbody tr th:only-of-type {\n",
       "        vertical-align: middle;\n",
       "    }\n",
       "\n",
       "    .dataframe tbody tr th {\n",
       "        vertical-align: top;\n",
       "    }\n",
       "\n",
       "    .dataframe thead th {\n",
       "        text-align: right;\n",
       "    }\n",
       "</style>\n",
       "<table border=\"1\" class=\"dataframe\">\n",
       "  <thead>\n",
       "    <tr style=\"text-align: right;\">\n",
       "      <th></th>\n",
       "      <th>Month_Starting</th>\n",
       "      <th>Store ID</th>\n",
       "      <th>Total Sales</th>\n",
       "      <th>Total Footfall</th>\n",
       "      <th>Total units sold</th>\n",
       "    </tr>\n",
       "  </thead>\n",
       "  <tbody>\n",
       "    <tr>\n",
       "      <th>0</th>\n",
       "      <td>1/1/2013</td>\n",
       "      <td>1</td>\n",
       "      <td>2263054</td>\n",
       "      <td>119942</td>\n",
       "      <td>47977</td>\n",
       "    </tr>\n",
       "    <tr>\n",
       "      <th>1</th>\n",
       "      <td>2/1/2013</td>\n",
       "      <td>1</td>\n",
       "      <td>2397926</td>\n",
       "      <td>110305</td>\n",
       "      <td>61280</td>\n",
       "    </tr>\n",
       "    <tr>\n",
       "      <th>2</th>\n",
       "      <td>3/1/2013</td>\n",
       "      <td>1</td>\n",
       "      <td>2024432</td>\n",
       "      <td>119441</td>\n",
       "      <td>66356</td>\n",
       "    </tr>\n",
       "    <tr>\n",
       "      <th>3</th>\n",
       "      <td>4/1/2013</td>\n",
       "      <td>1</td>\n",
       "      <td>2115485</td>\n",
       "      <td>110005</td>\n",
       "      <td>84619</td>\n",
       "    </tr>\n",
       "    <tr>\n",
       "      <th>4</th>\n",
       "      <td>5/1/2013</td>\n",
       "      <td>1</td>\n",
       "      <td>2115188</td>\n",
       "      <td>93068</td>\n",
       "      <td>38778</td>\n",
       "    </tr>\n",
       "  </tbody>\n",
       "</table>\n",
       "</div>"
      ],
      "text/plain": [
       "  Month_Starting  Store ID  Total Sales  Total Footfall  Total units sold\n",
       "0       1/1/2013         1      2263054          119942             47977\n",
       "1       2/1/2013         1      2397926          110305             61280\n",
       "2       3/1/2013         1      2024432          119441             66356\n",
       "3       4/1/2013         1      2115485          110005             84619\n",
       "4       5/1/2013         1      2115188           93068             38778"
      ]
     },
     "execution_count": 32,
     "metadata": {},
     "output_type": "execute_result"
    }
   ],
   "source": [
    "import pandas as pd\n",
    "import numpy as np\n",
    "\n",
    "# Importing data\n",
    "df = pd.read_csv('Datasets/RetailData.csv') #read from csv\n",
    "\n",
    "# Displaying the top 5 rows\n",
    "df.head()"
   ]
  },
  {
   "cell_type": "markdown",
   "metadata": {},
   "source": [
    "Other ways of importing data depending on the file type.\n",
    "\n",
    "* __pd.read_table(filename)__ - From a delimited text file (like TSV)\n",
    "* __pd.read_excel(filename)__ - From an Excel file \n",
    "* __pd.read_sql(query, connection_object)__ - Reads from a SQL table/database\n",
    "* __pd.read_json(json_string)__ - Reads from a JSON file and extracts tables to a list of dataframes"
   ]
  },
  {
   "cell_type": "markdown",
   "metadata": {},
   "source": [
    "## Create Objects <a name=\"create_test\"/>\n",
    "* __pd.DataFrame(dict)__ - From a dict, keys for columns names, values for data as lists\n",
    "* __pd.DataFrame(np.random.rand(20,5))__ - 5 columns and 20 rows of random floats\n",
    "* __pd.Series(my_list)__ - Creates a series from an iterable my_list"
   ]
  },
  {
   "cell_type": "code",
   "execution_count": null,
   "metadata": {
    "collapsed": true
   },
   "outputs": [],
   "source": [
    "df_dict = pd.DataFrame(columns=['City'], data=['Dallas','Los Angeles'])\n",
    "df_dict['State'] =pd.DataFrame(data=['Texas','California'])\n",
    "df_dict"
   ]
  },
  {
   "cell_type": "code",
   "execution_count": 74,
   "metadata": {},
   "outputs": [
    {
     "data": {
      "text/html": [
       "<div>\n",
       "<style scoped>\n",
       "    .dataframe tbody tr th:only-of-type {\n",
       "        vertical-align: middle;\n",
       "    }\n",
       "\n",
       "    .dataframe tbody tr th {\n",
       "        vertical-align: top;\n",
       "    }\n",
       "\n",
       "    .dataframe thead th {\n",
       "        text-align: right;\n",
       "    }\n",
       "</style>\n",
       "<table border=\"1\" class=\"dataframe\">\n",
       "  <thead>\n",
       "    <tr style=\"text-align: right;\">\n",
       "      <th></th>\n",
       "      <th>students</th>\n",
       "      <th>score</th>\n",
       "    </tr>\n",
       "  </thead>\n",
       "  <tbody>\n",
       "    <tr>\n",
       "      <th>0</th>\n",
       "      <td>dhruv</td>\n",
       "      <td>90</td>\n",
       "    </tr>\n",
       "    <tr>\n",
       "      <th>1</th>\n",
       "      <td>jesse</td>\n",
       "      <td>94</td>\n",
       "    </tr>\n",
       "    <tr>\n",
       "      <th>2</th>\n",
       "      <td>floyd</td>\n",
       "      <td>96</td>\n",
       "    </tr>\n",
       "    <tr>\n",
       "      <th>3</th>\n",
       "      <td>brionne</td>\n",
       "      <td>92</td>\n",
       "    </tr>\n",
       "  </tbody>\n",
       "</table>\n",
       "</div>"
      ],
      "text/plain": [
       "  students  score\n",
       "0    dhruv     90\n",
       "1    jesse     94\n",
       "2    floyd     96\n",
       "3  brionne     92"
      ]
     },
     "execution_count": 74,
     "metadata": {},
     "output_type": "execute_result"
    }
   ],
   "source": [
    "# Create a dataframe with two lists as given\n",
    "# students = [\"dhruv\",\"jesse\",\"floyd\",\"brionne\"]\n",
    "# score =[90,94,96,92]\n",
    "\n",
    "students = [\"dhruv\",\"jesse\",\"floyd\",\"brionne\"]\n",
    "score =[90,94,96,92]\n",
    "data = {'students':students,'score':score}\n",
    "df = pd.DataFrame(data)\n",
    "df"
   ]
  },
  {
   "cell_type": "markdown",
   "metadata": {},
   "source": [
    "## Viewing Data <a name=\"Pandas_view\"/>"
   ]
  },
  {
   "cell_type": "markdown",
   "metadata": {},
   "source": [
    "### head() and tail() <a name=\"head\"/>\n",
    "* __df.head(n)__ - First n rows of the DataFrame \n",
    "* **df.tail()** - Last n rows of the DataFrame"
   ]
  },
  {
   "cell_type": "markdown",
   "metadata": {},
   "source": [
    "### shape() <a name=\"shape\"/>\n",
    "* __df.shape__ - Number of rows and columns "
   ]
  },
  {
   "cell_type": "code",
   "execution_count": 34,
   "metadata": {
    "ExecuteTime": {
     "end_time": "2019-02-06T06:56:44.795781Z",
     "start_time": "2019-02-06T06:56:44.722311Z"
    }
   },
   "outputs": [
    {
     "name": "stdout",
     "output_type": "stream",
     "text": [
      "df shape\n",
      "\n",
      "(399, 5)\n"
     ]
    }
   ],
   "source": [
    "# Printing the shape of the data\n",
    "print(\"df shape\\n\")\n",
    "print(df.shape)"
   ]
  },
  {
   "cell_type": "markdown",
   "metadata": {},
   "source": [
    "### info() <a name=\"info\"/>\n",
    "* __df.info()__ - Index, Datatype and Memory "
   ]
  },
  {
   "cell_type": "code",
   "execution_count": null,
   "metadata": {
    "collapsed": true
   },
   "outputs": [],
   "source": [
    "# Get the info of the dataframe df\n"
   ]
  },
  {
   "cell_type": "markdown",
   "metadata": {},
   "source": [
    "### describe() <a name=\"describe\"/>\n",
    "* __df.describe()__ - Summary statistics for numerical columns"
   ]
  },
  {
   "cell_type": "code",
   "execution_count": 35,
   "metadata": {
    "ExecuteTime": {
     "end_time": "2019-02-06T06:56:44.795781Z",
     "start_time": "2019-02-06T06:56:44.722311Z"
    },
    "scrolled": false
   },
   "outputs": [
    {
     "name": "stdout",
     "output_type": "stream",
     "text": [
      "df describe\n",
      "\n"
     ]
    },
    {
     "data": {
      "text/html": [
       "<div>\n",
       "<style scoped>\n",
       "    .dataframe tbody tr th:only-of-type {\n",
       "        vertical-align: middle;\n",
       "    }\n",
       "\n",
       "    .dataframe tbody tr th {\n",
       "        vertical-align: top;\n",
       "    }\n",
       "\n",
       "    .dataframe thead th {\n",
       "        text-align: right;\n",
       "    }\n",
       "</style>\n",
       "<table border=\"1\" class=\"dataframe\">\n",
       "  <thead>\n",
       "    <tr style=\"text-align: right;\">\n",
       "      <th></th>\n",
       "      <th>Store ID</th>\n",
       "      <th>Total Sales</th>\n",
       "      <th>Total Footfall</th>\n",
       "      <th>Total units sold</th>\n",
       "    </tr>\n",
       "  </thead>\n",
       "  <tbody>\n",
       "    <tr>\n",
       "      <th>count</th>\n",
       "      <td>399.000000</td>\n",
       "      <td>3.990000e+02</td>\n",
       "      <td>3.990000e+02</td>\n",
       "      <td>3.990000e+02</td>\n",
       "    </tr>\n",
       "    <tr>\n",
       "      <th>mean</th>\n",
       "      <td>3.842105</td>\n",
       "      <td>1.883062e+07</td>\n",
       "      <td>1.047935e+06</td>\n",
       "      <td>5.525562e+05</td>\n",
       "    </tr>\n",
       "    <tr>\n",
       "      <th>std</th>\n",
       "      <td>1.929051</td>\n",
       "      <td>2.249812e+07</td>\n",
       "      <td>1.284142e+06</td>\n",
       "      <td>7.425996e+05</td>\n",
       "    </tr>\n",
       "    <tr>\n",
       "      <th>min</th>\n",
       "      <td>1.000000</td>\n",
       "      <td>2.977000e+03</td>\n",
       "      <td>1.310000e+02</td>\n",
       "      <td>4.700000e+01</td>\n",
       "    </tr>\n",
       "    <tr>\n",
       "      <th>25%</th>\n",
       "      <td>2.000000</td>\n",
       "      <td>1.819016e+06</td>\n",
       "      <td>9.178850e+04</td>\n",
       "      <td>4.086900e+04</td>\n",
       "    </tr>\n",
       "    <tr>\n",
       "      <th>50%</th>\n",
       "      <td>4.000000</td>\n",
       "      <td>2.430416e+06</td>\n",
       "      <td>1.361610e+05</td>\n",
       "      <td>7.964800e+04</td>\n",
       "    </tr>\n",
       "    <tr>\n",
       "      <th>75%</th>\n",
       "      <td>5.000000</td>\n",
       "      <td>3.825468e+07</td>\n",
       "      <td>2.137696e+06</td>\n",
       "      <td>9.981550e+05</td>\n",
       "    </tr>\n",
       "    <tr>\n",
       "      <th>max</th>\n",
       "      <td>7.000000</td>\n",
       "      <td>6.998379e+07</td>\n",
       "      <td>4.536845e+06</td>\n",
       "      <td>4.238289e+06</td>\n",
       "    </tr>\n",
       "  </tbody>\n",
       "</table>\n",
       "</div>"
      ],
      "text/plain": [
       "         Store ID   Total Sales  Total Footfall  Total units sold\n",
       "count  399.000000  3.990000e+02    3.990000e+02      3.990000e+02\n",
       "mean     3.842105  1.883062e+07    1.047935e+06      5.525562e+05\n",
       "std      1.929051  2.249812e+07    1.284142e+06      7.425996e+05\n",
       "min      1.000000  2.977000e+03    1.310000e+02      4.700000e+01\n",
       "25%      2.000000  1.819016e+06    9.178850e+04      4.086900e+04\n",
       "50%      4.000000  2.430416e+06    1.361610e+05      7.964800e+04\n",
       "75%      5.000000  3.825468e+07    2.137696e+06      9.981550e+05\n",
       "max      7.000000  6.998379e+07    4.536845e+06      4.238289e+06"
      ]
     },
     "execution_count": 35,
     "metadata": {},
     "output_type": "execute_result"
    }
   ],
   "source": [
    "# Describe the datset\n",
    "print(\"df describe\\n\")\n",
    "df.describe()"
   ]
  },
  {
   "cell_type": "markdown",
   "metadata": {},
   "source": [
    "## Selection\n",
    "\n",
    "* __df[col]__ or __df.col__- Returns column with label col as Series\n",
    "* __df[[col1, col2]]__ - Returns Columns as a new DataFrame\n",
    "* __s.iloc[0]__ - Selection by position/Integer-based indexing\n",
    "* __s.loc[0]__ - Selection by index/label-based indexing\n",
    "* __df.loc[:, :]__ and __df.iloc[:, :]__ - First argument represents the number of rows and the second for columns\n",
    "* __df.ix[0:a, 0:b]__ - Arguments notation is same as above but returns a rows and (b-1) columns __[deprecated in Python 3]__\n",
    "\n",
    "```\n",
    "# Single selections using iloc and DataFrame\n",
    "# Rows:\n",
    "df.iloc[0] # first row of data frame\n",
    "df.iloc[1] # second row of data frame\n",
    "df.iloc[-1] # last row of data frame\n",
    "# Columns:\n",
    "df.iloc[:,0] # first column of data frame\n",
    "df.iloc[:,1] # second column of data frame\n",
    "df.iloc[:,-1] # last column of data frame\n",
    "```"
   ]
  },
  {
   "cell_type": "code",
   "execution_count": 36,
   "metadata": {},
   "outputs": [
    {
     "data": {
      "text/plain": [
       "Month_Starting      1/1/2013\n",
       "Store ID                   1\n",
       "Total Sales          2263054\n",
       "Total Footfall        119942\n",
       "Total units sold       47977\n",
       "Name: 0, dtype: object"
      ]
     },
     "execution_count": 36,
     "metadata": {},
     "output_type": "execute_result"
    }
   ],
   "source": [
    "# Select first row  using iloc\n",
    "df.iloc[0]"
   ]
  },
  {
   "cell_type": "code",
   "execution_count": 37,
   "metadata": {},
   "outputs": [
    {
     "data": {
      "text/html": [
       "<div>\n",
       "<style scoped>\n",
       "    .dataframe tbody tr th:only-of-type {\n",
       "        vertical-align: middle;\n",
       "    }\n",
       "\n",
       "    .dataframe tbody tr th {\n",
       "        vertical-align: top;\n",
       "    }\n",
       "\n",
       "    .dataframe thead th {\n",
       "        text-align: right;\n",
       "    }\n",
       "</style>\n",
       "<table border=\"1\" class=\"dataframe\">\n",
       "  <thead>\n",
       "    <tr style=\"text-align: right;\">\n",
       "      <th></th>\n",
       "      <th>Month_Starting</th>\n",
       "      <th>Store ID</th>\n",
       "      <th>Total Sales</th>\n",
       "      <th>Total Footfall</th>\n",
       "      <th>Total units sold</th>\n",
       "    </tr>\n",
       "  </thead>\n",
       "  <tbody>\n",
       "    <tr>\n",
       "      <th>0</th>\n",
       "      <td>1/1/2013</td>\n",
       "      <td>1</td>\n",
       "      <td>2263054</td>\n",
       "      <td>119942</td>\n",
       "      <td>47977</td>\n",
       "    </tr>\n",
       "  </tbody>\n",
       "</table>\n",
       "</div>"
      ],
      "text/plain": [
       "  Month_Starting  Store ID  Total Sales  Total Footfall  Total units sold\n",
       "0       1/1/2013         1      2263054          119942             47977"
      ]
     },
     "execution_count": 37,
     "metadata": {},
     "output_type": "execute_result"
    }
   ],
   "source": [
    "#selecting first row using iloc\n",
    "df.iloc[0:1,:]"
   ]
  },
  {
   "cell_type": "code",
   "execution_count": 38,
   "metadata": {
    "ExecuteTime": {
     "end_time": "2019-02-06T07:02:24.633705Z",
     "start_time": "2019-02-06T07:02:24.586058Z"
    },
    "scrolled": true
   },
   "outputs": [
    {
     "data": {
      "text/html": [
       "<div>\n",
       "<style scoped>\n",
       "    .dataframe tbody tr th:only-of-type {\n",
       "        vertical-align: middle;\n",
       "    }\n",
       "\n",
       "    .dataframe tbody tr th {\n",
       "        vertical-align: top;\n",
       "    }\n",
       "\n",
       "    .dataframe thead th {\n",
       "        text-align: right;\n",
       "    }\n",
       "</style>\n",
       "<table border=\"1\" class=\"dataframe\">\n",
       "  <thead>\n",
       "    <tr style=\"text-align: right;\">\n",
       "      <th></th>\n",
       "      <th>Month_Starting</th>\n",
       "      <th>Store ID</th>\n",
       "      <th>Total Sales</th>\n",
       "      <th>Total Footfall</th>\n",
       "      <th>Total units sold</th>\n",
       "    </tr>\n",
       "  </thead>\n",
       "  <tbody>\n",
       "    <tr>\n",
       "      <th>0</th>\n",
       "      <td>1/1/2013</td>\n",
       "      <td>1</td>\n",
       "      <td>2263054</td>\n",
       "      <td>119942</td>\n",
       "      <td>47977</td>\n",
       "    </tr>\n",
       "    <tr>\n",
       "      <th>1</th>\n",
       "      <td>2/1/2013</td>\n",
       "      <td>1</td>\n",
       "      <td>2397926</td>\n",
       "      <td>110305</td>\n",
       "      <td>61280</td>\n",
       "    </tr>\n",
       "    <tr>\n",
       "      <th>2</th>\n",
       "      <td>3/1/2013</td>\n",
       "      <td>1</td>\n",
       "      <td>2024432</td>\n",
       "      <td>119441</td>\n",
       "      <td>66356</td>\n",
       "    </tr>\n",
       "    <tr>\n",
       "      <th>3</th>\n",
       "      <td>4/1/2013</td>\n",
       "      <td>1</td>\n",
       "      <td>2115485</td>\n",
       "      <td>110005</td>\n",
       "      <td>84619</td>\n",
       "    </tr>\n",
       "    <tr>\n",
       "      <th>4</th>\n",
       "      <td>5/1/2013</td>\n",
       "      <td>1</td>\n",
       "      <td>2115188</td>\n",
       "      <td>93068</td>\n",
       "      <td>38778</td>\n",
       "    </tr>\n",
       "  </tbody>\n",
       "</table>\n",
       "</div>"
      ],
      "text/plain": [
       "  Month_Starting  Store ID  Total Sales  Total Footfall  Total units sold\n",
       "0       1/1/2013         1      2263054          119942             47977\n",
       "1       2/1/2013         1      2397926          110305             61280\n",
       "2       3/1/2013         1      2024432          119441             66356\n",
       "3       4/1/2013         1      2115485          110005             84619\n",
       "4       5/1/2013         1      2115188           93068             38778"
      ]
     },
     "execution_count": 38,
     "metadata": {},
     "output_type": "execute_result"
    }
   ],
   "source": [
    "# rows 0 to 4 (first five rows); all columns\n",
    "df.loc[0:4,:] # : for columns is optional here since we are asking for all columns"
   ]
  },
  {
   "cell_type": "code",
   "execution_count": 39,
   "metadata": {
    "collapsed": true
   },
   "outputs": [
    {
     "data": {
      "text/plain": [
       "0       1/1/2013\n",
       "1       2/1/2013\n",
       "2       3/1/2013\n",
       "3       4/1/2013\n",
       "4       5/1/2013\n",
       "5       6/1/2013\n",
       "6       7/1/2013\n",
       "7       8/1/2013\n",
       "8       9/1/2013\n",
       "9      10/1/2013\n",
       "10     11/1/2013\n",
       "11     12/1/2013\n",
       "12      1/1/2014\n",
       "13      2/1/2014\n",
       "14      3/1/2014\n",
       "15      4/1/2014\n",
       "16      5/1/2014\n",
       "17      6/1/2014\n",
       "18      7/1/2014\n",
       "19      8/1/2014\n",
       "20      9/1/2014\n",
       "21     10/1/2014\n",
       "22     11/1/2014\n",
       "23     12/1/2014\n",
       "24      1/1/2015\n",
       "25      2/1/2015\n",
       "26      3/1/2015\n",
       "27      4/1/2015\n",
       "28      5/1/2015\n",
       "29      6/1/2015\n",
       "         ...    \n",
       "369    10/1/2013\n",
       "370    11/1/2013\n",
       "371    12/1/2013\n",
       "372     1/1/2014\n",
       "373     2/1/2014\n",
       "374     3/1/2014\n",
       "375     4/1/2014\n",
       "376     5/1/2014\n",
       "377     6/1/2014\n",
       "378     7/1/2014\n",
       "379     8/1/2014\n",
       "380     9/1/2014\n",
       "381    10/1/2014\n",
       "382    11/1/2014\n",
       "383    12/1/2014\n",
       "384     1/1/2015\n",
       "385     2/1/2015\n",
       "386     3/1/2015\n",
       "387     4/1/2015\n",
       "388     5/1/2015\n",
       "389     6/1/2015\n",
       "390     7/1/2015\n",
       "391     8/1/2015\n",
       "392     9/1/2015\n",
       "393    10/1/2015\n",
       "394    11/1/2015\n",
       "395    12/1/2015\n",
       "396     1/1/2016\n",
       "397     2/1/2016\n",
       "398     3/1/2016\n",
       "Name: Month_Starting, Length: 399, dtype: object"
      ]
     },
     "execution_count": 39,
     "metadata": {},
     "output_type": "execute_result"
    }
   ],
   "source": [
    "#select first column using iloc\n",
    "df.iloc[:,0]"
   ]
  },
  {
   "cell_type": "code",
   "execution_count": 40,
   "metadata": {
    "collapsed": true
   },
   "outputs": [
    {
     "data": {
      "text/html": [
       "<div>\n",
       "<style scoped>\n",
       "    .dataframe tbody tr th:only-of-type {\n",
       "        vertical-align: middle;\n",
       "    }\n",
       "\n",
       "    .dataframe tbody tr th {\n",
       "        vertical-align: top;\n",
       "    }\n",
       "\n",
       "    .dataframe thead th {\n",
       "        text-align: right;\n",
       "    }\n",
       "</style>\n",
       "<table border=\"1\" class=\"dataframe\">\n",
       "  <thead>\n",
       "    <tr style=\"text-align: right;\">\n",
       "      <th></th>\n",
       "      <th>Month_Starting</th>\n",
       "    </tr>\n",
       "  </thead>\n",
       "  <tbody>\n",
       "    <tr>\n",
       "      <th>0</th>\n",
       "      <td>1/1/2013</td>\n",
       "    </tr>\n",
       "    <tr>\n",
       "      <th>1</th>\n",
       "      <td>2/1/2013</td>\n",
       "    </tr>\n",
       "    <tr>\n",
       "      <th>2</th>\n",
       "      <td>3/1/2013</td>\n",
       "    </tr>\n",
       "    <tr>\n",
       "      <th>3</th>\n",
       "      <td>4/1/2013</td>\n",
       "    </tr>\n",
       "    <tr>\n",
       "      <th>4</th>\n",
       "      <td>5/1/2013</td>\n",
       "    </tr>\n",
       "    <tr>\n",
       "      <th>5</th>\n",
       "      <td>6/1/2013</td>\n",
       "    </tr>\n",
       "    <tr>\n",
       "      <th>6</th>\n",
       "      <td>7/1/2013</td>\n",
       "    </tr>\n",
       "    <tr>\n",
       "      <th>7</th>\n",
       "      <td>8/1/2013</td>\n",
       "    </tr>\n",
       "    <tr>\n",
       "      <th>8</th>\n",
       "      <td>9/1/2013</td>\n",
       "    </tr>\n",
       "    <tr>\n",
       "      <th>9</th>\n",
       "      <td>10/1/2013</td>\n",
       "    </tr>\n",
       "    <tr>\n",
       "      <th>10</th>\n",
       "      <td>11/1/2013</td>\n",
       "    </tr>\n",
       "    <tr>\n",
       "      <th>11</th>\n",
       "      <td>12/1/2013</td>\n",
       "    </tr>\n",
       "    <tr>\n",
       "      <th>12</th>\n",
       "      <td>1/1/2014</td>\n",
       "    </tr>\n",
       "    <tr>\n",
       "      <th>13</th>\n",
       "      <td>2/1/2014</td>\n",
       "    </tr>\n",
       "    <tr>\n",
       "      <th>14</th>\n",
       "      <td>3/1/2014</td>\n",
       "    </tr>\n",
       "    <tr>\n",
       "      <th>15</th>\n",
       "      <td>4/1/2014</td>\n",
       "    </tr>\n",
       "    <tr>\n",
       "      <th>16</th>\n",
       "      <td>5/1/2014</td>\n",
       "    </tr>\n",
       "    <tr>\n",
       "      <th>17</th>\n",
       "      <td>6/1/2014</td>\n",
       "    </tr>\n",
       "    <tr>\n",
       "      <th>18</th>\n",
       "      <td>7/1/2014</td>\n",
       "    </tr>\n",
       "    <tr>\n",
       "      <th>19</th>\n",
       "      <td>8/1/2014</td>\n",
       "    </tr>\n",
       "    <tr>\n",
       "      <th>20</th>\n",
       "      <td>9/1/2014</td>\n",
       "    </tr>\n",
       "    <tr>\n",
       "      <th>21</th>\n",
       "      <td>10/1/2014</td>\n",
       "    </tr>\n",
       "    <tr>\n",
       "      <th>22</th>\n",
       "      <td>11/1/2014</td>\n",
       "    </tr>\n",
       "    <tr>\n",
       "      <th>23</th>\n",
       "      <td>12/1/2014</td>\n",
       "    </tr>\n",
       "    <tr>\n",
       "      <th>24</th>\n",
       "      <td>1/1/2015</td>\n",
       "    </tr>\n",
       "    <tr>\n",
       "      <th>25</th>\n",
       "      <td>2/1/2015</td>\n",
       "    </tr>\n",
       "    <tr>\n",
       "      <th>26</th>\n",
       "      <td>3/1/2015</td>\n",
       "    </tr>\n",
       "    <tr>\n",
       "      <th>27</th>\n",
       "      <td>4/1/2015</td>\n",
       "    </tr>\n",
       "    <tr>\n",
       "      <th>28</th>\n",
       "      <td>5/1/2015</td>\n",
       "    </tr>\n",
       "    <tr>\n",
       "      <th>29</th>\n",
       "      <td>6/1/2015</td>\n",
       "    </tr>\n",
       "    <tr>\n",
       "      <th>...</th>\n",
       "      <td>...</td>\n",
       "    </tr>\n",
       "    <tr>\n",
       "      <th>369</th>\n",
       "      <td>10/1/2013</td>\n",
       "    </tr>\n",
       "    <tr>\n",
       "      <th>370</th>\n",
       "      <td>11/1/2013</td>\n",
       "    </tr>\n",
       "    <tr>\n",
       "      <th>371</th>\n",
       "      <td>12/1/2013</td>\n",
       "    </tr>\n",
       "    <tr>\n",
       "      <th>372</th>\n",
       "      <td>1/1/2014</td>\n",
       "    </tr>\n",
       "    <tr>\n",
       "      <th>373</th>\n",
       "      <td>2/1/2014</td>\n",
       "    </tr>\n",
       "    <tr>\n",
       "      <th>374</th>\n",
       "      <td>3/1/2014</td>\n",
       "    </tr>\n",
       "    <tr>\n",
       "      <th>375</th>\n",
       "      <td>4/1/2014</td>\n",
       "    </tr>\n",
       "    <tr>\n",
       "      <th>376</th>\n",
       "      <td>5/1/2014</td>\n",
       "    </tr>\n",
       "    <tr>\n",
       "      <th>377</th>\n",
       "      <td>6/1/2014</td>\n",
       "    </tr>\n",
       "    <tr>\n",
       "      <th>378</th>\n",
       "      <td>7/1/2014</td>\n",
       "    </tr>\n",
       "    <tr>\n",
       "      <th>379</th>\n",
       "      <td>8/1/2014</td>\n",
       "    </tr>\n",
       "    <tr>\n",
       "      <th>380</th>\n",
       "      <td>9/1/2014</td>\n",
       "    </tr>\n",
       "    <tr>\n",
       "      <th>381</th>\n",
       "      <td>10/1/2014</td>\n",
       "    </tr>\n",
       "    <tr>\n",
       "      <th>382</th>\n",
       "      <td>11/1/2014</td>\n",
       "    </tr>\n",
       "    <tr>\n",
       "      <th>383</th>\n",
       "      <td>12/1/2014</td>\n",
       "    </tr>\n",
       "    <tr>\n",
       "      <th>384</th>\n",
       "      <td>1/1/2015</td>\n",
       "    </tr>\n",
       "    <tr>\n",
       "      <th>385</th>\n",
       "      <td>2/1/2015</td>\n",
       "    </tr>\n",
       "    <tr>\n",
       "      <th>386</th>\n",
       "      <td>3/1/2015</td>\n",
       "    </tr>\n",
       "    <tr>\n",
       "      <th>387</th>\n",
       "      <td>4/1/2015</td>\n",
       "    </tr>\n",
       "    <tr>\n",
       "      <th>388</th>\n",
       "      <td>5/1/2015</td>\n",
       "    </tr>\n",
       "    <tr>\n",
       "      <th>389</th>\n",
       "      <td>6/1/2015</td>\n",
       "    </tr>\n",
       "    <tr>\n",
       "      <th>390</th>\n",
       "      <td>7/1/2015</td>\n",
       "    </tr>\n",
       "    <tr>\n",
       "      <th>391</th>\n",
       "      <td>8/1/2015</td>\n",
       "    </tr>\n",
       "    <tr>\n",
       "      <th>392</th>\n",
       "      <td>9/1/2015</td>\n",
       "    </tr>\n",
       "    <tr>\n",
       "      <th>393</th>\n",
       "      <td>10/1/2015</td>\n",
       "    </tr>\n",
       "    <tr>\n",
       "      <th>394</th>\n",
       "      <td>11/1/2015</td>\n",
       "    </tr>\n",
       "    <tr>\n",
       "      <th>395</th>\n",
       "      <td>12/1/2015</td>\n",
       "    </tr>\n",
       "    <tr>\n",
       "      <th>396</th>\n",
       "      <td>1/1/2016</td>\n",
       "    </tr>\n",
       "    <tr>\n",
       "      <th>397</th>\n",
       "      <td>2/1/2016</td>\n",
       "    </tr>\n",
       "    <tr>\n",
       "      <th>398</th>\n",
       "      <td>3/1/2016</td>\n",
       "    </tr>\n",
       "  </tbody>\n",
       "</table>\n",
       "<p>399 rows × 1 columns</p>\n",
       "</div>"
      ],
      "text/plain": [
       "    Month_Starting\n",
       "0         1/1/2013\n",
       "1         2/1/2013\n",
       "2         3/1/2013\n",
       "3         4/1/2013\n",
       "4         5/1/2013\n",
       "5         6/1/2013\n",
       "6         7/1/2013\n",
       "7         8/1/2013\n",
       "8         9/1/2013\n",
       "9        10/1/2013\n",
       "10       11/1/2013\n",
       "11       12/1/2013\n",
       "12        1/1/2014\n",
       "13        2/1/2014\n",
       "14        3/1/2014\n",
       "15        4/1/2014\n",
       "16        5/1/2014\n",
       "17        6/1/2014\n",
       "18        7/1/2014\n",
       "19        8/1/2014\n",
       "20        9/1/2014\n",
       "21       10/1/2014\n",
       "22       11/1/2014\n",
       "23       12/1/2014\n",
       "24        1/1/2015\n",
       "25        2/1/2015\n",
       "26        3/1/2015\n",
       "27        4/1/2015\n",
       "28        5/1/2015\n",
       "29        6/1/2015\n",
       "..             ...\n",
       "369      10/1/2013\n",
       "370      11/1/2013\n",
       "371      12/1/2013\n",
       "372       1/1/2014\n",
       "373       2/1/2014\n",
       "374       3/1/2014\n",
       "375       4/1/2014\n",
       "376       5/1/2014\n",
       "377       6/1/2014\n",
       "378       7/1/2014\n",
       "379       8/1/2014\n",
       "380       9/1/2014\n",
       "381      10/1/2014\n",
       "382      11/1/2014\n",
       "383      12/1/2014\n",
       "384       1/1/2015\n",
       "385       2/1/2015\n",
       "386       3/1/2015\n",
       "387       4/1/2015\n",
       "388       5/1/2015\n",
       "389       6/1/2015\n",
       "390       7/1/2015\n",
       "391       8/1/2015\n",
       "392       9/1/2015\n",
       "393      10/1/2015\n",
       "394      11/1/2015\n",
       "395      12/1/2015\n",
       "396       1/1/2016\n",
       "397       2/1/2016\n",
       "398       3/1/2016\n",
       "\n",
       "[399 rows x 1 columns]"
      ]
     },
     "execution_count": 40,
     "metadata": {},
     "output_type": "execute_result"
    }
   ],
   "source": [
    "#select first column using iloc\n",
    "df.iloc[:,0:1]"
   ]
  },
  {
   "cell_type": "code",
   "execution_count": 41,
   "metadata": {
    "ExecuteTime": {
     "end_time": "2019-02-06T07:03:10.792390Z",
     "start_time": "2019-02-06T07:03:10.744252Z"
    },
    "scrolled": true
   },
   "outputs": [
    {
     "name": "stdout",
     "output_type": "stream",
     "text": [
      "Selection using loc:\n"
     ]
    },
    {
     "data": {
      "text/html": [
       "<div>\n",
       "<style scoped>\n",
       "    .dataframe tbody tr th:only-of-type {\n",
       "        vertical-align: middle;\n",
       "    }\n",
       "\n",
       "    .dataframe tbody tr th {\n",
       "        vertical-align: top;\n",
       "    }\n",
       "\n",
       "    .dataframe thead th {\n",
       "        text-align: right;\n",
       "    }\n",
       "</style>\n",
       "<table border=\"1\" class=\"dataframe\">\n",
       "  <thead>\n",
       "    <tr style=\"text-align: right;\">\n",
       "      <th></th>\n",
       "      <th>Month_Starting</th>\n",
       "      <th>Total Sales</th>\n",
       "    </tr>\n",
       "  </thead>\n",
       "  <tbody>\n",
       "    <tr>\n",
       "      <th>0</th>\n",
       "      <td>1/1/2013</td>\n",
       "      <td>2263054</td>\n",
       "    </tr>\n",
       "    <tr>\n",
       "      <th>1</th>\n",
       "      <td>2/1/2013</td>\n",
       "      <td>2397926</td>\n",
       "    </tr>\n",
       "    <tr>\n",
       "      <th>2</th>\n",
       "      <td>3/1/2013</td>\n",
       "      <td>2024432</td>\n",
       "    </tr>\n",
       "    <tr>\n",
       "      <th>3</th>\n",
       "      <td>4/1/2013</td>\n",
       "      <td>2115485</td>\n",
       "    </tr>\n",
       "    <tr>\n",
       "      <th>4</th>\n",
       "      <td>5/1/2013</td>\n",
       "      <td>2115188</td>\n",
       "    </tr>\n",
       "  </tbody>\n",
       "</table>\n",
       "</div>"
      ],
      "text/plain": [
       "  Month_Starting  Total Sales\n",
       "0       1/1/2013      2263054\n",
       "1       2/1/2013      2397926\n",
       "2       3/1/2013      2024432\n",
       "3       4/1/2013      2115485\n",
       "4       5/1/2013      2115188"
      ]
     },
     "execution_count": 41,
     "metadata": {},
     "output_type": "execute_result"
    }
   ],
   "source": [
    "# rows 0 to 4 (five rows); selective columns\n",
    "print(\"Selection using loc:\")\n",
    "df.loc[0:4,['Month_Starting','Total Sales']]"
   ]
  },
  {
   "cell_type": "code",
   "execution_count": 42,
   "metadata": {
    "ExecuteTime": {
     "end_time": "2019-02-06T07:04:19.115983Z",
     "start_time": "2019-02-06T07:04:19.094290Z"
    }
   },
   "outputs": [
    {
     "name": "stdout",
     "output_type": "stream",
     "text": [
      "Selection using iloc:\n"
     ]
    },
    {
     "data": {
      "text/html": [
       "<div>\n",
       "<style scoped>\n",
       "    .dataframe tbody tr th:only-of-type {\n",
       "        vertical-align: middle;\n",
       "    }\n",
       "\n",
       "    .dataframe tbody tr th {\n",
       "        vertical-align: top;\n",
       "    }\n",
       "\n",
       "    .dataframe thead th {\n",
       "        text-align: right;\n",
       "    }\n",
       "</style>\n",
       "<table border=\"1\" class=\"dataframe\">\n",
       "  <thead>\n",
       "    <tr style=\"text-align: right;\">\n",
       "      <th></th>\n",
       "      <th>Month_Starting</th>\n",
       "      <th>Store ID</th>\n",
       "    </tr>\n",
       "  </thead>\n",
       "  <tbody>\n",
       "    <tr>\n",
       "      <th>0</th>\n",
       "      <td>1/1/2013</td>\n",
       "      <td>1</td>\n",
       "    </tr>\n",
       "    <tr>\n",
       "      <th>1</th>\n",
       "      <td>2/1/2013</td>\n",
       "      <td>1</td>\n",
       "    </tr>\n",
       "    <tr>\n",
       "      <th>2</th>\n",
       "      <td>3/1/2013</td>\n",
       "      <td>1</td>\n",
       "    </tr>\n",
       "    <tr>\n",
       "      <th>3</th>\n",
       "      <td>4/1/2013</td>\n",
       "      <td>1</td>\n",
       "    </tr>\n",
       "  </tbody>\n",
       "</table>\n",
       "</div>"
      ],
      "text/plain": [
       "  Month_Starting  Store ID\n",
       "0       1/1/2013         1\n",
       "1       2/1/2013         1\n",
       "2       3/1/2013         1\n",
       "3       4/1/2013         1"
      ]
     },
     "execution_count": 42,
     "metadata": {},
     "output_type": "execute_result"
    }
   ],
   "source": [
    "# rows 0 to 4; selective columns using iloc\n",
    "print(\"Selection using iloc:\")\n",
    "df.iloc[0:4,[0,1]]"
   ]
  },
  {
   "cell_type": "markdown",
   "metadata": {},
   "source": [
    "## Data Cleaning <a anme=\"pandas_clean\"/>\n",
    "\n",
    "|Functions|Description|\n",
    "|---------|-----------|\n",
    "| __df.drop([col1, col2, col3], inplace = True, axis=1)__ | Remove set of column(s)|\n",
    "| __df.columns = ['a','b','c']__ | Renames columns|\n",
    "| __df.isnull()__ | Checks for null Values, Returns Boolean DataFrame|\n",
    "| __df.isnull().any()__ | Returns boolean value for each column, gives True if any null value detected corresponding to that column|\n",
    "| __df.dropna()__ | Drops all rows that contain null values|\n",
    "| __df.dropna(axis=1)__ | Drops all columns that contain null values|\n",
    "| __df.fillna(x)__ | Replaces all null values with x|\n",
    "| __s.replace(1,'one')__ | Replaces all values equal to 1 with 'one'|\n",
    "| __s.replace([1,3], ['one','three'])__ | Replaces all 1 with 'one' and 3 with 'three'|\n",
    "| __df.rename(columns = lambda x: x + '_1')__ | Mass renaming of columns|\n",
    "| __df.rename(columns = {'old_name': 'new_name'})__ | Selective renaming|\n",
    "| __df.rename(index = lambda x: x + 1)__ | Mass renaming of index|\n",
    "| __df[new_col] = df.col1 + ', ' + df.col2__ | Add two columns to create a new column in the same DataFrame|"
   ]
  },
  {
   "cell_type": "markdown",
   "metadata": {},
   "source": [
    "### drop() <a name=\"drop\"/>"
   ]
  },
  {
   "cell_type": "code",
   "execution_count": 43,
   "metadata": {
    "ExecuteTime": {
     "end_time": "2019-02-06T07:14:23.331687Z",
     "start_time": "2019-02-06T07:14:23.294077Z"
    },
    "scrolled": true
   },
   "outputs": [
    {
     "data": {
      "text/html": [
       "<div>\n",
       "<style scoped>\n",
       "    .dataframe tbody tr th:only-of-type {\n",
       "        vertical-align: middle;\n",
       "    }\n",
       "\n",
       "    .dataframe tbody tr th {\n",
       "        vertical-align: top;\n",
       "    }\n",
       "\n",
       "    .dataframe thead th {\n",
       "        text-align: right;\n",
       "    }\n",
       "</style>\n",
       "<table border=\"1\" class=\"dataframe\">\n",
       "  <thead>\n",
       "    <tr style=\"text-align: right;\">\n",
       "      <th></th>\n",
       "      <th>Month_Starting</th>\n",
       "      <th>Store ID</th>\n",
       "      <th>Total Sales</th>\n",
       "      <th>Total Footfall</th>\n",
       "    </tr>\n",
       "  </thead>\n",
       "  <tbody>\n",
       "    <tr>\n",
       "      <th>0</th>\n",
       "      <td>1/1/2013</td>\n",
       "      <td>1</td>\n",
       "      <td>2263054</td>\n",
       "      <td>119942</td>\n",
       "    </tr>\n",
       "    <tr>\n",
       "      <th>1</th>\n",
       "      <td>2/1/2013</td>\n",
       "      <td>1</td>\n",
       "      <td>2397926</td>\n",
       "      <td>110305</td>\n",
       "    </tr>\n",
       "    <tr>\n",
       "      <th>2</th>\n",
       "      <td>3/1/2013</td>\n",
       "      <td>1</td>\n",
       "      <td>2024432</td>\n",
       "      <td>119441</td>\n",
       "    </tr>\n",
       "    <tr>\n",
       "      <th>3</th>\n",
       "      <td>4/1/2013</td>\n",
       "      <td>1</td>\n",
       "      <td>2115485</td>\n",
       "      <td>110005</td>\n",
       "    </tr>\n",
       "    <tr>\n",
       "      <th>4</th>\n",
       "      <td>5/1/2013</td>\n",
       "      <td>1</td>\n",
       "      <td>2115188</td>\n",
       "      <td>93068</td>\n",
       "    </tr>\n",
       "  </tbody>\n",
       "</table>\n",
       "</div>"
      ],
      "text/plain": [
       "  Month_Starting  Store ID  Total Sales  Total Footfall\n",
       "0       1/1/2013         1      2263054          119942\n",
       "1       2/1/2013         1      2397926          110305\n",
       "2       3/1/2013         1      2024432          119441\n",
       "3       4/1/2013         1      2115485          110005\n",
       "4       5/1/2013         1      2115188           93068"
      ]
     },
     "execution_count": 43,
     "metadata": {},
     "output_type": "execute_result"
    }
   ],
   "source": [
    "# Dropping the column 'Total units sold' \n",
    "# 'inplace' attributes tells python whether to delete the column in original dataset or not\n",
    "df.drop(['Total units sold'], inplace=True, axis = 1) \n",
    "df.head()"
   ]
  },
  {
   "cell_type": "markdown",
   "metadata": {},
   "source": [
    "### Missing Value Treatment <a name=\"NA\"/>"
   ]
  },
  {
   "cell_type": "code",
   "execution_count": 44,
   "metadata": {
    "ExecuteTime": {
     "end_time": "2019-02-06T07:14:58.205816Z",
     "start_time": "2019-02-06T07:14:58.183902Z"
    }
   },
   "outputs": [
    {
     "data": {
      "text/plain": [
       "Month_Starting    False\n",
       "Store ID          False\n",
       "Total Sales       False\n",
       "Total Footfall    False\n",
       "dtype: bool"
      ]
     },
     "execution_count": 44,
     "metadata": {},
     "output_type": "execute_result"
    }
   ],
   "source": [
    "# Checking for the presence of null values\n",
    "df.isnull().any()"
   ]
  },
  {
   "cell_type": "code",
   "execution_count": 45,
   "metadata": {
    "ExecuteTime": {
     "end_time": "2019-02-06T07:15:59.455998Z",
     "start_time": "2019-02-06T07:15:59.359991Z"
    },
    "collapsed": true
   },
   "outputs": [],
   "source": [
    "# Dropping na values\n",
    "df.dropna(axis=0, inplace=True)"
   ]
  },
  {
   "cell_type": "markdown",
   "metadata": {},
   "source": [
    "### replace() <a name=\"replace\"/>"
   ]
  },
  {
   "cell_type": "code",
   "execution_count": 46,
   "metadata": {},
   "outputs": [
    {
     "data": {
      "text/plain": [
       "0    01\n",
       "1    01\n",
       "2    01\n",
       "3    01\n",
       "4    01\n",
       "Name: Store ID, dtype: object"
      ]
     },
     "execution_count": 46,
     "metadata": {},
     "output_type": "execute_result"
    }
   ],
   "source": [
    "# Replacing the value 1 with \"01\"\n",
    "df['Store ID'].replace(1,\"01\").head()"
   ]
  },
  {
   "cell_type": "markdown",
   "metadata": {},
   "source": [
    "### rename() <a name=\"rename\"/>"
   ]
  },
  {
   "cell_type": "code",
   "execution_count": 47,
   "metadata": {},
   "outputs": [
    {
     "data": {
      "text/html": [
       "<div>\n",
       "<style scoped>\n",
       "    .dataframe tbody tr th:only-of-type {\n",
       "        vertical-align: middle;\n",
       "    }\n",
       "\n",
       "    .dataframe tbody tr th {\n",
       "        vertical-align: top;\n",
       "    }\n",
       "\n",
       "    .dataframe thead th {\n",
       "        text-align: right;\n",
       "    }\n",
       "</style>\n",
       "<table border=\"1\" class=\"dataframe\">\n",
       "  <thead>\n",
       "    <tr style=\"text-align: right;\">\n",
       "      <th></th>\n",
       "      <th>Month_Starting</th>\n",
       "      <th>Store_ID</th>\n",
       "      <th>Total Sales</th>\n",
       "      <th>Total Footfall</th>\n",
       "    </tr>\n",
       "  </thead>\n",
       "  <tbody>\n",
       "    <tr>\n",
       "      <th>0</th>\n",
       "      <td>1/1/2013</td>\n",
       "      <td>1</td>\n",
       "      <td>2263054</td>\n",
       "      <td>119942</td>\n",
       "    </tr>\n",
       "    <tr>\n",
       "      <th>1</th>\n",
       "      <td>2/1/2013</td>\n",
       "      <td>1</td>\n",
       "      <td>2397926</td>\n",
       "      <td>110305</td>\n",
       "    </tr>\n",
       "    <tr>\n",
       "      <th>2</th>\n",
       "      <td>3/1/2013</td>\n",
       "      <td>1</td>\n",
       "      <td>2024432</td>\n",
       "      <td>119441</td>\n",
       "    </tr>\n",
       "    <tr>\n",
       "      <th>3</th>\n",
       "      <td>4/1/2013</td>\n",
       "      <td>1</td>\n",
       "      <td>2115485</td>\n",
       "      <td>110005</td>\n",
       "    </tr>\n",
       "    <tr>\n",
       "      <th>4</th>\n",
       "      <td>5/1/2013</td>\n",
       "      <td>1</td>\n",
       "      <td>2115188</td>\n",
       "      <td>93068</td>\n",
       "    </tr>\n",
       "  </tbody>\n",
       "</table>\n",
       "</div>"
      ],
      "text/plain": [
       "  Month_Starting  Store_ID  Total Sales  Total Footfall\n",
       "0       1/1/2013         1      2263054          119942\n",
       "1       2/1/2013         1      2397926          110305\n",
       "2       3/1/2013         1      2024432          119441\n",
       "3       4/1/2013         1      2115485          110005\n",
       "4       5/1/2013         1      2115188           93068"
      ]
     },
     "execution_count": 47,
     "metadata": {},
     "output_type": "execute_result"
    }
   ],
   "source": [
    "# Renmaing column\n",
    "df.rename(columns = {'Store ID': 'Store_ID'}).head()"
   ]
  },
  {
   "cell_type": "code",
   "execution_count": null,
   "metadata": {
    "collapsed": true
   },
   "outputs": [],
   "source": [
    "# Rename the column Total Footfall to \"Total_FootFall\"\n",
    "\n"
   ]
  },
  {
   "cell_type": "markdown",
   "metadata": {},
   "source": [
    "### pandas to_datetime()"
   ]
  },
  {
   "cell_type": "code",
   "execution_count": 48,
   "metadata": {},
   "outputs": [
    {
     "data": {
      "text/html": [
       "<div>\n",
       "<style scoped>\n",
       "    .dataframe tbody tr th:only-of-type {\n",
       "        vertical-align: middle;\n",
       "    }\n",
       "\n",
       "    .dataframe tbody tr th {\n",
       "        vertical-align: top;\n",
       "    }\n",
       "\n",
       "    .dataframe thead th {\n",
       "        text-align: right;\n",
       "    }\n",
       "</style>\n",
       "<table border=\"1\" class=\"dataframe\">\n",
       "  <thead>\n",
       "    <tr style=\"text-align: right;\">\n",
       "      <th></th>\n",
       "      <th>Month_Starting</th>\n",
       "      <th>Store ID</th>\n",
       "      <th>Total Sales</th>\n",
       "      <th>Total Footfall</th>\n",
       "    </tr>\n",
       "  </thead>\n",
       "  <tbody>\n",
       "    <tr>\n",
       "      <th>0</th>\n",
       "      <td>2013-01-01</td>\n",
       "      <td>1</td>\n",
       "      <td>2263054</td>\n",
       "      <td>119942</td>\n",
       "    </tr>\n",
       "    <tr>\n",
       "      <th>1</th>\n",
       "      <td>2013-02-01</td>\n",
       "      <td>1</td>\n",
       "      <td>2397926</td>\n",
       "      <td>110305</td>\n",
       "    </tr>\n",
       "    <tr>\n",
       "      <th>2</th>\n",
       "      <td>2013-03-01</td>\n",
       "      <td>1</td>\n",
       "      <td>2024432</td>\n",
       "      <td>119441</td>\n",
       "    </tr>\n",
       "    <tr>\n",
       "      <th>3</th>\n",
       "      <td>2013-04-01</td>\n",
       "      <td>1</td>\n",
       "      <td>2115485</td>\n",
       "      <td>110005</td>\n",
       "    </tr>\n",
       "    <tr>\n",
       "      <th>4</th>\n",
       "      <td>2013-05-01</td>\n",
       "      <td>1</td>\n",
       "      <td>2115188</td>\n",
       "      <td>93068</td>\n",
       "    </tr>\n",
       "  </tbody>\n",
       "</table>\n",
       "</div>"
      ],
      "text/plain": [
       "  Month_Starting  Store ID  Total Sales  Total Footfall\n",
       "0     2013-01-01         1      2263054          119942\n",
       "1     2013-02-01         1      2397926          110305\n",
       "2     2013-03-01         1      2024432          119441\n",
       "3     2013-04-01         1      2115485          110005\n",
       "4     2013-05-01         1      2115188           93068"
      ]
     },
     "execution_count": 48,
     "metadata": {},
     "output_type": "execute_result"
    }
   ],
   "source": [
    "# Converting to date time format\n",
    "df['Month_Starting'] = pd.to_datetime(df['Month_Starting'])\n",
    "df.head()"
   ]
  },
  {
   "cell_type": "markdown",
   "metadata": {},
   "source": [
    "## Filter, Sort & Group By <a name=\"pandas_filter\"/>\n",
    "\n",
    "|Function|Description|\n",
    "|---------|-----------|\n",
    "| __df[df[col] > 0.5]__ | Rows where the values in col > 0.5|\n",
    "| __df[(df[col] > 0.5) & (df[col] < 0.7)]__ | Rows where 0.7 > col > 0.5|\n",
    "| __df.sort_values(col1)__ | Sorts values by col1 in ascending order|\n",
    "| __df.sort_values(col2,ascending=False)__ |Sorts values by col2 in descending order|\n",
    "| __df.sort_values([col1,col2],ascending=[True,False])__ | Sorts values by col1 in ascending order then col2 in descending order|\n",
    "| __df.groupby(col)__ | Returns a groupby object for values from one column|\n",
    "| __df.groupby([col1,col2])__ | Returns a groupby object values from multiple columns|\n",
    "| __df.groupby(col1)[col2].mean()__ | (Aggregation) Returns the mean of the values in col2, grouped by the values in col1|\n",
    "| __df.pivot_table(index=col1,values=[col2,col3],aggfunc=mean)__ | Creates a pivot table that groups by col1 and calculates the mean of col2 and col3|\n",
    "| __df.apply(np.mean)__ | Applies a function across each column|\n",
    "| __df.apply(np.max, axis=1)__ | Applies a function across each row|\n",
    "| __df.applymap(lambda arg(s): expression)__ | Apply the expression on each value of the DataFrame|\n",
    "| __df[col].map(lambda arg(s): expression)__ | Apply the expression on each value of the column col|"
   ]
  },
  {
   "cell_type": "markdown",
   "metadata": {},
   "source": [
    "### filter()"
   ]
  },
  {
   "cell_type": "code",
   "execution_count": 49,
   "metadata": {
    "ExecuteTime": {
     "end_time": "2019-02-06T07:23:39.570241Z",
     "start_time": "2019-02-06T07:23:39.527335Z"
    }
   },
   "outputs": [
    {
     "name": "stdout",
     "output_type": "stream",
     "text": [
      "(60, 4)\n"
     ]
    },
    {
     "data": {
      "text/html": [
       "<div>\n",
       "<style scoped>\n",
       "    .dataframe tbody tr th:only-of-type {\n",
       "        vertical-align: middle;\n",
       "    }\n",
       "\n",
       "    .dataframe tbody tr th {\n",
       "        vertical-align: top;\n",
       "    }\n",
       "\n",
       "    .dataframe thead th {\n",
       "        text-align: right;\n",
       "    }\n",
       "</style>\n",
       "<table border=\"1\" class=\"dataframe\">\n",
       "  <thead>\n",
       "    <tr style=\"text-align: right;\">\n",
       "      <th></th>\n",
       "      <th>Month_Starting</th>\n",
       "      <th>Store ID</th>\n",
       "      <th>Total Sales</th>\n",
       "      <th>Total Footfall</th>\n",
       "    </tr>\n",
       "  </thead>\n",
       "  <tbody>\n",
       "    <tr>\n",
       "      <th>0</th>\n",
       "      <td>2013-01-01</td>\n",
       "      <td>1</td>\n",
       "      <td>2263054</td>\n",
       "      <td>119942</td>\n",
       "    </tr>\n",
       "    <tr>\n",
       "      <th>1</th>\n",
       "      <td>2013-02-01</td>\n",
       "      <td>1</td>\n",
       "      <td>2397926</td>\n",
       "      <td>110305</td>\n",
       "    </tr>\n",
       "    <tr>\n",
       "      <th>2</th>\n",
       "      <td>2013-03-01</td>\n",
       "      <td>1</td>\n",
       "      <td>2024432</td>\n",
       "      <td>119441</td>\n",
       "    </tr>\n",
       "    <tr>\n",
       "      <th>3</th>\n",
       "      <td>2013-04-01</td>\n",
       "      <td>1</td>\n",
       "      <td>2115485</td>\n",
       "      <td>110005</td>\n",
       "    </tr>\n",
       "    <tr>\n",
       "      <th>4</th>\n",
       "      <td>2013-05-01</td>\n",
       "      <td>1</td>\n",
       "      <td>2115188</td>\n",
       "      <td>93068</td>\n",
       "    </tr>\n",
       "  </tbody>\n",
       "</table>\n",
       "</div>"
      ],
      "text/plain": [
       "  Month_Starting  Store ID  Total Sales  Total Footfall\n",
       "0     2013-01-01         1      2263054          119942\n",
       "1     2013-02-01         1      2397926          110305\n",
       "2     2013-03-01         1      2024432          119441\n",
       "3     2013-04-01         1      2115485          110005\n",
       "4     2013-05-01         1      2115188           93068"
      ]
     },
     "execution_count": 49,
     "metadata": {},
     "output_type": "execute_result"
    }
   ],
   "source": [
    "#filtering data based on store ID\n",
    "df_store100 = df[(df['Store ID'] == 1)]\n",
    "print(df_store100.shape)\n",
    "df_store100.head()"
   ]
  },
  {
   "cell_type": "markdown",
   "metadata": {},
   "source": [
    "### group by"
   ]
  },
  {
   "cell_type": "code",
   "execution_count": 51,
   "metadata": {
    "ExecuteTime": {
     "end_time": "2019-02-06T07:24:49.706689Z",
     "start_time": "2019-02-06T07:24:49.692311Z"
    },
    "scrolled": true
   },
   "outputs": [
    {
     "data": {
      "text/html": [
       "<div>\n",
       "<style scoped>\n",
       "    .dataframe tbody tr th:only-of-type {\n",
       "        vertical-align: middle;\n",
       "    }\n",
       "\n",
       "    .dataframe tbody tr th {\n",
       "        vertical-align: top;\n",
       "    }\n",
       "\n",
       "    .dataframe thead th {\n",
       "        text-align: right;\n",
       "    }\n",
       "</style>\n",
       "<table border=\"1\" class=\"dataframe\">\n",
       "  <thead>\n",
       "    <tr style=\"text-align: right;\">\n",
       "      <th></th>\n",
       "      <th>Total Sales</th>\n",
       "      <th>Total Footfall</th>\n",
       "    </tr>\n",
       "    <tr>\n",
       "      <th>Store ID</th>\n",
       "      <th></th>\n",
       "      <th></th>\n",
       "    </tr>\n",
       "  </thead>\n",
       "  <tbody>\n",
       "    <tr>\n",
       "      <th>1</th>\n",
       "      <td>2.355425e+06</td>\n",
       "      <td>1.280225e+05</td>\n",
       "    </tr>\n",
       "    <tr>\n",
       "      <th>2</th>\n",
       "      <td>3.707533e+03</td>\n",
       "      <td>1.999667e+02</td>\n",
       "    </tr>\n",
       "    <tr>\n",
       "      <th>3</th>\n",
       "      <td>2.254101e+06</td>\n",
       "      <td>1.226826e+05</td>\n",
       "    </tr>\n",
       "    <tr>\n",
       "      <th>4</th>\n",
       "      <td>3.241797e+07</td>\n",
       "      <td>1.788587e+06</td>\n",
       "    </tr>\n",
       "    <tr>\n",
       "      <th>5</th>\n",
       "      <td>4.750339e+07</td>\n",
       "      <td>2.674920e+06</td>\n",
       "    </tr>\n",
       "  </tbody>\n",
       "</table>\n",
       "</div>"
      ],
      "text/plain": [
       "           Total Sales  Total Footfall\n",
       "Store ID                              \n",
       "1         2.355425e+06    1.280225e+05\n",
       "2         3.707533e+03    1.999667e+02\n",
       "3         2.254101e+06    1.226826e+05\n",
       "4         3.241797e+07    1.788587e+06\n",
       "5         4.750339e+07    2.674920e+06"
      ]
     },
     "execution_count": 51,
     "metadata": {},
     "output_type": "execute_result"
    }
   ],
   "source": [
    "# Finding the average sales and footfall per store\n",
    "# Grouping by Store ID\n",
    "df_groupby = (df.groupby('Store ID').mean())\n",
    "df_groupby.head()"
   ]
  },
  {
   "cell_type": "code",
   "execution_count": 52,
   "metadata": {
    "ExecuteTime": {
     "end_time": "2019-02-06T07:29:49.364145Z",
     "start_time": "2019-02-06T07:29:49.343734Z"
    },
    "scrolled": true
   },
   "outputs": [
    {
     "data": {
      "text/html": [
       "<div>\n",
       "<style scoped>\n",
       "    .dataframe tbody tr th:only-of-type {\n",
       "        vertical-align: middle;\n",
       "    }\n",
       "\n",
       "    .dataframe tbody tr th {\n",
       "        vertical-align: top;\n",
       "    }\n",
       "\n",
       "    .dataframe thead th {\n",
       "        text-align: right;\n",
       "    }\n",
       "</style>\n",
       "<table border=\"1\" class=\"dataframe\">\n",
       "  <thead>\n",
       "    <tr style=\"text-align: right;\">\n",
       "      <th></th>\n",
       "      <th>Total Sales</th>\n",
       "    </tr>\n",
       "    <tr>\n",
       "      <th>Store ID</th>\n",
       "      <th></th>\n",
       "    </tr>\n",
       "  </thead>\n",
       "  <tbody>\n",
       "    <tr>\n",
       "      <th>1</th>\n",
       "      <td>141325497</td>\n",
       "    </tr>\n",
       "    <tr>\n",
       "      <th>2</th>\n",
       "      <td>222452</td>\n",
       "    </tr>\n",
       "    <tr>\n",
       "      <th>3</th>\n",
       "      <td>135246057</td>\n",
       "    </tr>\n",
       "    <tr>\n",
       "      <th>4</th>\n",
       "      <td>1945077972</td>\n",
       "    </tr>\n",
       "    <tr>\n",
       "      <th>5</th>\n",
       "      <td>2850203414</td>\n",
       "    </tr>\n",
       "  </tbody>\n",
       "</table>\n",
       "</div>"
      ],
      "text/plain": [
       "          Total Sales\n",
       "Store ID             \n",
       "1           141325497\n",
       "2              222452\n",
       "3           135246057\n",
       "4          1945077972\n",
       "5          2850203414"
      ]
     },
     "execution_count": 52,
     "metadata": {},
     "output_type": "execute_result"
    }
   ],
   "source": [
    "# Aggregation of a single column using groupby\n",
    "grouped = df.groupby('Store ID')\n",
    "grouped = pd.DataFrame(grouped['Total Sales'].agg(np.sum))\n",
    "grouped.head()"
   ]
  },
  {
   "cell_type": "code",
   "execution_count": 53,
   "metadata": {
    "ExecuteTime": {
     "end_time": "2019-02-06T07:30:12.157077Z",
     "start_time": "2019-02-06T07:30:12.110662Z"
    },
    "scrolled": true
   },
   "outputs": [
    {
     "name": "stdout",
     "output_type": "stream",
     "text": [
      "sum     7.513418e+09\n",
      "mean    1.073345e+09\n",
      "std     1.248683e+09\n",
      "Name: Total Sales, dtype: float64\n"
     ]
    }
   ],
   "source": [
    "# applying multiple aggregation functions at once\n",
    "print(grouped['Total Sales'].agg([np.sum, np.mean, np.std]))"
   ]
  },
  {
   "cell_type": "markdown",
   "metadata": {},
   "source": [
    "## Merging"
   ]
  },
  {
   "cell_type": "markdown",
   "metadata": {},
   "source": [
    "\n",
    "<img align=\"left\" src=\"https://datascienceplus.com/wp-content/uploads/2018/09/R-merge.jpg\"/><sub>[[9]](https://datascienceplus.com/wp-content/uploads/2018/09/R-merge.jpg)</sub>\n",
    "<br><br><br><br><br><br><br>\n",
    "#### __pd.merge(left, right, how='inner', on=None, left_on=None, right_on=None, left_index=False, right_index=False, sort=True)__ - where\n",
    "   \n",
    "   + left − A DataFrame object.\n",
    "   + right − Another DataFrame object.\n",
    "   + how − One of 'left', 'right', 'outer', 'inner'. Defaults to inner. Each method has been described below.\n",
    "   + on − Columns (names) to join on. __Must be found in both__ the left and right DataFrame objects.\n",
    "   + left_on − Columns from the left DataFrame to use as keys.\n",
    "   + right_on − Columns from the right DataFrame to use as keys.\n",
    "   + left_index − If True, use the index (row labels) from the left DataFrame as its join key(s). In case of a DataFrame with a MultiIndex (hierarchical), the number of levels must match the number of join keys from the right DataFrame.\n",
    "   + right_index − Same usage as left_index for the right DataFrame.\n",
    "   + sort − Sort the result DataFrame by the join keys in _lexicographical order_. Defaults to True, setting to False will improve the performance substantially in many cases. <sup>[[8]](https://www.tutorialspoint.com/python_pandas/python_pandas_merging_joining.htm)</sup>\n",
    "\n",
    "| Merge Method | SQL Equivalent\t| Description |\n",
    "|:-:|:-:|:-:|\n",
    "|left\t|LEFT OUTER JOIN\t|Use keys from left object\n",
    "|right\t|RIGHT OUTER JOIN\t|Use keys from right object\n",
    "|outer\t|FULL OUTER JOIN\t|Use union of keys\n",
    "|inner\t|INNER JOIN\t|Use intersection of keys"
   ]
  },
  {
   "cell_type": "code",
   "execution_count": 54,
   "metadata": {
    "ExecuteTime": {
     "end_time": "2019-02-06T07:33:58.354597Z",
     "start_time": "2019-02-06T07:33:58.345700Z"
    },
    "collapsed": true
   },
   "outputs": [],
   "source": [
    "# Creating two dataframes left and right\n",
    "\n",
    "left = pd.DataFrame({\n",
    "         'id':[1,2,3,4,5],\n",
    "         'Name': ['Alex', 'Amy', 'Allen', 'Alice', 'Ayan'],\n",
    "         'subject_id':['sub1','sub2','sub4','sub6','sub5']})\n",
    "\n",
    "right = pd.DataFrame(\n",
    "         {'id':[1,2,3,4,5],\n",
    "         'Name': ['Billy', 'Brian', 'Brock', 'Bryce', 'Betty'],\n",
    "         'subject_id':['sub2','sub4','sub3','sub6','sub5']})"
   ]
  },
  {
   "cell_type": "code",
   "execution_count": 55,
   "metadata": {
    "ExecuteTime": {
     "end_time": "2019-02-06T07:33:58.354597Z",
     "start_time": "2019-02-06T07:33:58.345700Z"
    }
   },
   "outputs": [
    {
     "data": {
      "text/html": [
       "<div>\n",
       "<style scoped>\n",
       "    .dataframe tbody tr th:only-of-type {\n",
       "        vertical-align: middle;\n",
       "    }\n",
       "\n",
       "    .dataframe tbody tr th {\n",
       "        vertical-align: top;\n",
       "    }\n",
       "\n",
       "    .dataframe thead th {\n",
       "        text-align: right;\n",
       "    }\n",
       "</style>\n",
       "<table border=\"1\" class=\"dataframe\">\n",
       "  <thead>\n",
       "    <tr style=\"text-align: right;\">\n",
       "      <th></th>\n",
       "      <th>id</th>\n",
       "      <th>Name</th>\n",
       "      <th>subject_id</th>\n",
       "    </tr>\n",
       "  </thead>\n",
       "  <tbody>\n",
       "    <tr>\n",
       "      <th>0</th>\n",
       "      <td>1</td>\n",
       "      <td>Alex</td>\n",
       "      <td>sub1</td>\n",
       "    </tr>\n",
       "    <tr>\n",
       "      <th>1</th>\n",
       "      <td>2</td>\n",
       "      <td>Amy</td>\n",
       "      <td>sub2</td>\n",
       "    </tr>\n",
       "    <tr>\n",
       "      <th>2</th>\n",
       "      <td>3</td>\n",
       "      <td>Allen</td>\n",
       "      <td>sub4</td>\n",
       "    </tr>\n",
       "    <tr>\n",
       "      <th>3</th>\n",
       "      <td>4</td>\n",
       "      <td>Alice</td>\n",
       "      <td>sub6</td>\n",
       "    </tr>\n",
       "    <tr>\n",
       "      <th>4</th>\n",
       "      <td>5</td>\n",
       "      <td>Ayan</td>\n",
       "      <td>sub5</td>\n",
       "    </tr>\n",
       "  </tbody>\n",
       "</table>\n",
       "</div>"
      ],
      "text/plain": [
       "   id   Name subject_id\n",
       "0   1   Alex       sub1\n",
       "1   2    Amy       sub2\n",
       "2   3  Allen       sub4\n",
       "3   4  Alice       sub6\n",
       "4   5   Ayan       sub5"
      ]
     },
     "execution_count": 55,
     "metadata": {},
     "output_type": "execute_result"
    }
   ],
   "source": [
    "left"
   ]
  },
  {
   "cell_type": "code",
   "execution_count": 56,
   "metadata": {
    "ExecuteTime": {
     "end_time": "2019-02-06T07:33:58.354597Z",
     "start_time": "2019-02-06T07:33:58.345700Z"
    }
   },
   "outputs": [
    {
     "data": {
      "text/html": [
       "<div>\n",
       "<style scoped>\n",
       "    .dataframe tbody tr th:only-of-type {\n",
       "        vertical-align: middle;\n",
       "    }\n",
       "\n",
       "    .dataframe tbody tr th {\n",
       "        vertical-align: top;\n",
       "    }\n",
       "\n",
       "    .dataframe thead th {\n",
       "        text-align: right;\n",
       "    }\n",
       "</style>\n",
       "<table border=\"1\" class=\"dataframe\">\n",
       "  <thead>\n",
       "    <tr style=\"text-align: right;\">\n",
       "      <th></th>\n",
       "      <th>id</th>\n",
       "      <th>Name</th>\n",
       "      <th>subject_id</th>\n",
       "    </tr>\n",
       "  </thead>\n",
       "  <tbody>\n",
       "    <tr>\n",
       "      <th>0</th>\n",
       "      <td>1</td>\n",
       "      <td>Billy</td>\n",
       "      <td>sub2</td>\n",
       "    </tr>\n",
       "    <tr>\n",
       "      <th>1</th>\n",
       "      <td>2</td>\n",
       "      <td>Brian</td>\n",
       "      <td>sub4</td>\n",
       "    </tr>\n",
       "    <tr>\n",
       "      <th>2</th>\n",
       "      <td>3</td>\n",
       "      <td>Brock</td>\n",
       "      <td>sub3</td>\n",
       "    </tr>\n",
       "    <tr>\n",
       "      <th>3</th>\n",
       "      <td>4</td>\n",
       "      <td>Bryce</td>\n",
       "      <td>sub6</td>\n",
       "    </tr>\n",
       "    <tr>\n",
       "      <th>4</th>\n",
       "      <td>5</td>\n",
       "      <td>Betty</td>\n",
       "      <td>sub5</td>\n",
       "    </tr>\n",
       "  </tbody>\n",
       "</table>\n",
       "</div>"
      ],
      "text/plain": [
       "   id   Name subject_id\n",
       "0   1  Billy       sub2\n",
       "1   2  Brian       sub4\n",
       "2   3  Brock       sub3\n",
       "3   4  Bryce       sub6\n",
       "4   5  Betty       sub5"
      ]
     },
     "execution_count": 56,
     "metadata": {},
     "output_type": "execute_result"
    }
   ],
   "source": [
    "right"
   ]
  },
  {
   "cell_type": "code",
   "execution_count": 57,
   "metadata": {
    "ExecuteTime": {
     "end_time": "2018-12-27T07:36:42.327351Z",
     "start_time": "2018-12-27T07:36:42.293949Z"
    }
   },
   "outputs": [
    {
     "data": {
      "text/html": [
       "<div>\n",
       "<style scoped>\n",
       "    .dataframe tbody tr th:only-of-type {\n",
       "        vertical-align: middle;\n",
       "    }\n",
       "\n",
       "    .dataframe tbody tr th {\n",
       "        vertical-align: top;\n",
       "    }\n",
       "\n",
       "    .dataframe thead th {\n",
       "        text-align: right;\n",
       "    }\n",
       "</style>\n",
       "<table border=\"1\" class=\"dataframe\">\n",
       "  <thead>\n",
       "    <tr style=\"text-align: right;\">\n",
       "      <th></th>\n",
       "      <th>id</th>\n",
       "      <th>Name_x</th>\n",
       "      <th>subject_id_x</th>\n",
       "      <th>Name_y</th>\n",
       "      <th>subject_id_y</th>\n",
       "    </tr>\n",
       "  </thead>\n",
       "  <tbody>\n",
       "    <tr>\n",
       "      <th>0</th>\n",
       "      <td>1</td>\n",
       "      <td>Alex</td>\n",
       "      <td>sub1</td>\n",
       "      <td>Billy</td>\n",
       "      <td>sub2</td>\n",
       "    </tr>\n",
       "    <tr>\n",
       "      <th>1</th>\n",
       "      <td>2</td>\n",
       "      <td>Amy</td>\n",
       "      <td>sub2</td>\n",
       "      <td>Brian</td>\n",
       "      <td>sub4</td>\n",
       "    </tr>\n",
       "    <tr>\n",
       "      <th>2</th>\n",
       "      <td>3</td>\n",
       "      <td>Allen</td>\n",
       "      <td>sub4</td>\n",
       "      <td>Brock</td>\n",
       "      <td>sub3</td>\n",
       "    </tr>\n",
       "    <tr>\n",
       "      <th>3</th>\n",
       "      <td>4</td>\n",
       "      <td>Alice</td>\n",
       "      <td>sub6</td>\n",
       "      <td>Bryce</td>\n",
       "      <td>sub6</td>\n",
       "    </tr>\n",
       "    <tr>\n",
       "      <th>4</th>\n",
       "      <td>5</td>\n",
       "      <td>Ayan</td>\n",
       "      <td>sub5</td>\n",
       "      <td>Betty</td>\n",
       "      <td>sub5</td>\n",
       "    </tr>\n",
       "  </tbody>\n",
       "</table>\n",
       "</div>"
      ],
      "text/plain": [
       "   id Name_x subject_id_x Name_y subject_id_y\n",
       "0   1   Alex         sub1  Billy         sub2\n",
       "1   2    Amy         sub2  Brian         sub4\n",
       "2   3  Allen         sub4  Brock         sub3\n",
       "3   4  Alice         sub6  Bryce         sub6\n",
       "4   5   Ayan         sub5  Betty         sub5"
      ]
     },
     "execution_count": 57,
     "metadata": {},
     "output_type": "execute_result"
    }
   ],
   "source": [
    "# merge two dataframes on a key\n",
    "pd.merge(left,right,on='id')"
   ]
  },
  {
   "cell_type": "code",
   "execution_count": 58,
   "metadata": {
    "ExecuteTime": {
     "end_time": "2018-12-27T07:36:42.327351Z",
     "start_time": "2018-12-27T07:36:42.293949Z"
    }
   },
   "outputs": [
    {
     "data": {
      "text/html": [
       "<div>\n",
       "<style scoped>\n",
       "    .dataframe tbody tr th:only-of-type {\n",
       "        vertical-align: middle;\n",
       "    }\n",
       "\n",
       "    .dataframe tbody tr th {\n",
       "        vertical-align: top;\n",
       "    }\n",
       "\n",
       "    .dataframe thead th {\n",
       "        text-align: right;\n",
       "    }\n",
       "</style>\n",
       "<table border=\"1\" class=\"dataframe\">\n",
       "  <thead>\n",
       "    <tr style=\"text-align: right;\">\n",
       "      <th></th>\n",
       "      <th>id</th>\n",
       "      <th>Name_x</th>\n",
       "      <th>subject_id</th>\n",
       "      <th>Name_y</th>\n",
       "    </tr>\n",
       "  </thead>\n",
       "  <tbody>\n",
       "    <tr>\n",
       "      <th>0</th>\n",
       "      <td>4</td>\n",
       "      <td>Alice</td>\n",
       "      <td>sub6</td>\n",
       "      <td>Bryce</td>\n",
       "    </tr>\n",
       "    <tr>\n",
       "      <th>1</th>\n",
       "      <td>5</td>\n",
       "      <td>Ayan</td>\n",
       "      <td>sub5</td>\n",
       "      <td>Betty</td>\n",
       "    </tr>\n",
       "  </tbody>\n",
       "</table>\n",
       "</div>"
      ],
      "text/plain": [
       "   id Name_x subject_id Name_y\n",
       "0   4  Alice       sub6  Bryce\n",
       "1   5   Ayan       sub5  Betty"
      ]
     },
     "execution_count": 58,
     "metadata": {},
     "output_type": "execute_result"
    }
   ],
   "source": [
    "# merge two dataframes on multiple keys\n",
    "pd.merge(left,right,on=['id','subject_id'])"
   ]
  },
  {
   "cell_type": "code",
   "execution_count": 59,
   "metadata": {
    "ExecuteTime": {
     "end_time": "2018-11-26T07:28:27.577500Z",
     "start_time": "2018-11-26T07:28:27.559030Z"
    },
    "scrolled": true
   },
   "outputs": [
    {
     "data": {
      "text/html": [
       "<div>\n",
       "<style scoped>\n",
       "    .dataframe tbody tr th:only-of-type {\n",
       "        vertical-align: middle;\n",
       "    }\n",
       "\n",
       "    .dataframe tbody tr th {\n",
       "        vertical-align: top;\n",
       "    }\n",
       "\n",
       "    .dataframe thead th {\n",
       "        text-align: right;\n",
       "    }\n",
       "</style>\n",
       "<table border=\"1\" class=\"dataframe\">\n",
       "  <thead>\n",
       "    <tr style=\"text-align: right;\">\n",
       "      <th></th>\n",
       "      <th>id_x</th>\n",
       "      <th>Name_x</th>\n",
       "      <th>subject_id</th>\n",
       "      <th>id_y</th>\n",
       "      <th>Name_y</th>\n",
       "    </tr>\n",
       "  </thead>\n",
       "  <tbody>\n",
       "    <tr>\n",
       "      <th>0</th>\n",
       "      <td>1</td>\n",
       "      <td>Alex</td>\n",
       "      <td>sub1</td>\n",
       "      <td>NaN</td>\n",
       "      <td>NaN</td>\n",
       "    </tr>\n",
       "    <tr>\n",
       "      <th>1</th>\n",
       "      <td>2</td>\n",
       "      <td>Amy</td>\n",
       "      <td>sub2</td>\n",
       "      <td>1.0</td>\n",
       "      <td>Billy</td>\n",
       "    </tr>\n",
       "    <tr>\n",
       "      <th>2</th>\n",
       "      <td>3</td>\n",
       "      <td>Allen</td>\n",
       "      <td>sub4</td>\n",
       "      <td>2.0</td>\n",
       "      <td>Brian</td>\n",
       "    </tr>\n",
       "    <tr>\n",
       "      <th>3</th>\n",
       "      <td>4</td>\n",
       "      <td>Alice</td>\n",
       "      <td>sub6</td>\n",
       "      <td>4.0</td>\n",
       "      <td>Bryce</td>\n",
       "    </tr>\n",
       "    <tr>\n",
       "      <th>4</th>\n",
       "      <td>5</td>\n",
       "      <td>Ayan</td>\n",
       "      <td>sub5</td>\n",
       "      <td>5.0</td>\n",
       "      <td>Betty</td>\n",
       "    </tr>\n",
       "  </tbody>\n",
       "</table>\n",
       "</div>"
      ],
      "text/plain": [
       "   id_x Name_x subject_id  id_y Name_y\n",
       "0     1   Alex       sub1   NaN    NaN\n",
       "1     2    Amy       sub2   1.0  Billy\n",
       "2     3  Allen       sub4   2.0  Brian\n",
       "3     4  Alice       sub6   4.0  Bryce\n",
       "4     5   Ayan       sub5   5.0  Betty"
      ]
     },
     "execution_count": 59,
     "metadata": {},
     "output_type": "execute_result"
    }
   ],
   "source": [
    "# lEFT JOIN\n",
    "pd.merge(left, right, on='subject_id', how='left')"
   ]
  },
  {
   "cell_type": "code",
   "execution_count": 60,
   "metadata": {},
   "outputs": [
    {
     "data": {
      "text/html": [
       "<div>\n",
       "<style scoped>\n",
       "    .dataframe tbody tr th:only-of-type {\n",
       "        vertical-align: middle;\n",
       "    }\n",
       "\n",
       "    .dataframe tbody tr th {\n",
       "        vertical-align: top;\n",
       "    }\n",
       "\n",
       "    .dataframe thead th {\n",
       "        text-align: right;\n",
       "    }\n",
       "</style>\n",
       "<table border=\"1\" class=\"dataframe\">\n",
       "  <thead>\n",
       "    <tr style=\"text-align: right;\">\n",
       "      <th></th>\n",
       "      <th>id</th>\n",
       "      <th>Name_x</th>\n",
       "      <th>subject_id_x</th>\n",
       "      <th>Name_y</th>\n",
       "      <th>subject_id_y</th>\n",
       "    </tr>\n",
       "  </thead>\n",
       "  <tbody>\n",
       "    <tr>\n",
       "      <th>0</th>\n",
       "      <td>1</td>\n",
       "      <td>Alex</td>\n",
       "      <td>sub1</td>\n",
       "      <td>Billy</td>\n",
       "      <td>sub2</td>\n",
       "    </tr>\n",
       "    <tr>\n",
       "      <th>1</th>\n",
       "      <td>2</td>\n",
       "      <td>Amy</td>\n",
       "      <td>sub2</td>\n",
       "      <td>Brian</td>\n",
       "      <td>sub4</td>\n",
       "    </tr>\n",
       "    <tr>\n",
       "      <th>2</th>\n",
       "      <td>3</td>\n",
       "      <td>Allen</td>\n",
       "      <td>sub4</td>\n",
       "      <td>Brock</td>\n",
       "      <td>sub3</td>\n",
       "    </tr>\n",
       "    <tr>\n",
       "      <th>3</th>\n",
       "      <td>4</td>\n",
       "      <td>Alice</td>\n",
       "      <td>sub6</td>\n",
       "      <td>Bryce</td>\n",
       "      <td>sub6</td>\n",
       "    </tr>\n",
       "    <tr>\n",
       "      <th>4</th>\n",
       "      <td>5</td>\n",
       "      <td>Ayan</td>\n",
       "      <td>sub5</td>\n",
       "      <td>Betty</td>\n",
       "      <td>sub5</td>\n",
       "    </tr>\n",
       "  </tbody>\n",
       "</table>\n",
       "</div>"
      ],
      "text/plain": [
       "   id Name_x subject_id_x Name_y subject_id_y\n",
       "0   1   Alex         sub1  Billy         sub2\n",
       "1   2    Amy         sub2  Brian         sub4\n",
       "2   3  Allen         sub4  Brock         sub3\n",
       "3   4  Alice         sub6  Bryce         sub6\n",
       "4   5   Ayan         sub5  Betty         sub5"
      ]
     },
     "execution_count": 60,
     "metadata": {},
     "output_type": "execute_result"
    }
   ],
   "source": [
    "# Right join\n",
    "pd.merge(left,right, on='id',how='right')"
   ]
  },
  {
   "cell_type": "markdown",
   "metadata": {
    "ExecuteTime": {
     "end_time": "2018-11-23T06:33:23.871041Z",
     "start_time": "2018-11-23T06:33:23.863767Z"
    }
   },
   "source": [
    "## Statistics <a name=\"statistics\"/>\n",
    "\n",
    "* __df.mean()__ - Returns the mean of all columns\n",
    "* __df.corr()__ - Returns the correlation between columns in a DataFrame\n",
    "* __df.count()__ - Returns the number of non-null values in each DataFrame column\n",
    "* __df.max()__ - Returns the highest value in each column\n",
    "* __df.min()__ - Returns the lowest value in each column\n",
    "* __df.median()__ - Returns the median of each column\n",
    "* __df.std()__ - Returns the standard deviation of each column"
   ]
  },
  {
   "cell_type": "code",
   "execution_count": 61,
   "metadata": {
    "ExecuteTime": {
     "end_time": "2018-12-27T07:37:33.578350Z",
     "start_time": "2018-12-27T07:37:33.556669Z"
    }
   },
   "outputs": [
    {
     "name": "stdout",
     "output_type": "stream",
     "text": [
      "Mean of total sales:  18830622.42857143\n"
     ]
    }
   ],
   "source": [
    "# Finding the mean of total Sales\n",
    "print(\"Mean of total sales: \",df['Total Sales'].mean())"
   ]
  },
  {
   "cell_type": "code",
   "execution_count": 62,
   "metadata": {},
   "outputs": [
    {
     "data": {
      "text/html": [
       "<div>\n",
       "<style scoped>\n",
       "    .dataframe tbody tr th:only-of-type {\n",
       "        vertical-align: middle;\n",
       "    }\n",
       "\n",
       "    .dataframe tbody tr th {\n",
       "        vertical-align: top;\n",
       "    }\n",
       "\n",
       "    .dataframe thead th {\n",
       "        text-align: right;\n",
       "    }\n",
       "</style>\n",
       "<table border=\"1\" class=\"dataframe\">\n",
       "  <thead>\n",
       "    <tr style=\"text-align: right;\">\n",
       "      <th></th>\n",
       "      <th>Month_Starting</th>\n",
       "      <th>Store ID</th>\n",
       "      <th>Total Sales</th>\n",
       "      <th>Total Footfall</th>\n",
       "    </tr>\n",
       "  </thead>\n",
       "  <tbody>\n",
       "    <tr>\n",
       "      <th>364</th>\n",
       "      <td>2013-05-01</td>\n",
       "      <td>7</td>\n",
       "      <td>69983793</td>\n",
       "      <td>3709141</td>\n",
       "    </tr>\n",
       "  </tbody>\n",
       "</table>\n",
       "</div>"
      ],
      "text/plain": [
       "    Month_Starting  Store ID  Total Sales  Total Footfall\n",
       "364     2013-05-01         7     69983793         3709141"
      ]
     },
     "execution_count": 62,
     "metadata": {},
     "output_type": "execute_result"
    }
   ],
   "source": [
    "# Finding the maximum sales and the Store and the month having the maximum sales\n",
    "df.loc[df['Total Sales'] == df['Total Sales'].max()]"
   ]
  },
  {
   "cell_type": "code",
   "execution_count": 63,
   "metadata": {},
   "outputs": [
    {
     "data": {
      "text/html": [
       "<div>\n",
       "<style scoped>\n",
       "    .dataframe tbody tr th:only-of-type {\n",
       "        vertical-align: middle;\n",
       "    }\n",
       "\n",
       "    .dataframe tbody tr th {\n",
       "        vertical-align: top;\n",
       "    }\n",
       "\n",
       "    .dataframe thead th {\n",
       "        text-align: right;\n",
       "    }\n",
       "</style>\n",
       "<table border=\"1\" class=\"dataframe\">\n",
       "  <thead>\n",
       "    <tr style=\"text-align: right;\">\n",
       "      <th></th>\n",
       "      <th>Store ID</th>\n",
       "      <th>Total Sales</th>\n",
       "      <th>Total Footfall</th>\n",
       "    </tr>\n",
       "  </thead>\n",
       "  <tbody>\n",
       "    <tr>\n",
       "      <th>count</th>\n",
       "      <td>399.000000</td>\n",
       "      <td>3.990000e+02</td>\n",
       "      <td>3.990000e+02</td>\n",
       "    </tr>\n",
       "    <tr>\n",
       "      <th>mean</th>\n",
       "      <td>3.842105</td>\n",
       "      <td>1.883062e+07</td>\n",
       "      <td>1.047935e+06</td>\n",
       "    </tr>\n",
       "    <tr>\n",
       "      <th>std</th>\n",
       "      <td>1.929051</td>\n",
       "      <td>2.249812e+07</td>\n",
       "      <td>1.284142e+06</td>\n",
       "    </tr>\n",
       "    <tr>\n",
       "      <th>min</th>\n",
       "      <td>1.000000</td>\n",
       "      <td>2.977000e+03</td>\n",
       "      <td>1.310000e+02</td>\n",
       "    </tr>\n",
       "    <tr>\n",
       "      <th>25%</th>\n",
       "      <td>2.000000</td>\n",
       "      <td>1.819016e+06</td>\n",
       "      <td>9.178850e+04</td>\n",
       "    </tr>\n",
       "    <tr>\n",
       "      <th>50%</th>\n",
       "      <td>4.000000</td>\n",
       "      <td>2.430416e+06</td>\n",
       "      <td>1.361610e+05</td>\n",
       "    </tr>\n",
       "    <tr>\n",
       "      <th>75%</th>\n",
       "      <td>5.000000</td>\n",
       "      <td>3.825468e+07</td>\n",
       "      <td>2.137696e+06</td>\n",
       "    </tr>\n",
       "    <tr>\n",
       "      <th>max</th>\n",
       "      <td>7.000000</td>\n",
       "      <td>6.998379e+07</td>\n",
       "      <td>4.536845e+06</td>\n",
       "    </tr>\n",
       "  </tbody>\n",
       "</table>\n",
       "</div>"
      ],
      "text/plain": [
       "         Store ID   Total Sales  Total Footfall\n",
       "count  399.000000  3.990000e+02    3.990000e+02\n",
       "mean     3.842105  1.883062e+07    1.047935e+06\n",
       "std      1.929051  2.249812e+07    1.284142e+06\n",
       "min      1.000000  2.977000e+03    1.310000e+02\n",
       "25%      2.000000  1.819016e+06    9.178850e+04\n",
       "50%      4.000000  2.430416e+06    1.361610e+05\n",
       "75%      5.000000  3.825468e+07    2.137696e+06\n",
       "max      7.000000  6.998379e+07    4.536845e+06"
      ]
     },
     "execution_count": 63,
     "metadata": {},
     "output_type": "execute_result"
    }
   ],
   "source": [
    "#Summary statistics of the dataframe\n",
    "df.describe()"
   ]
  },
  {
   "cell_type": "markdown",
   "metadata": {
    "ExecuteTime": {
     "end_time": "2018-11-25T19:27:02.944962Z",
     "start_time": "2018-11-25T19:27:02.938833Z"
    }
   },
   "source": [
    "## Exporting the Data <a name=\"pandas_exporting\"/>\n",
    "\n",
    "* __df.to_csv(filename)__ - Writes to a CSV file\n",
    "* __df.to_excel(filename)__ - Writes to an Excel file\n",
    "* __df.to_sql(table_name, connection_object)__ - Writes to a SQL table\n",
    "* __df.to_json(filename)__ - Writes to a file in JSON format\n",
    "* __df.to_html(filename)__ - Saves as an HTML table"
   ]
  },
  {
   "cell_type": "code",
   "execution_count": 64,
   "metadata": {
    "ExecuteTime": {
     "end_time": "2018-11-26T07:33:59.277485Z",
     "start_time": "2018-11-26T07:33:59.200013Z"
    }
   },
   "outputs": [
    {
     "name": "stdout",
     "output_type": "stream",
     "text": [
      "   id   Name subject_id\n",
      "0   1   Alex       sub1\n",
      "1   2    Amy       sub2\n",
      "2   3  Allen       sub4\n",
      "3   4  Alice       sub6\n",
      "4   5   Ayan       sub5\n"
     ]
    }
   ],
   "source": [
    "print(left)"
   ]
  },
  {
   "cell_type": "code",
   "execution_count": 65,
   "metadata": {
    "collapsed": true
   },
   "outputs": [],
   "source": [
    "# Exporting the data\n",
    "left.to_csv('left.csv')\n"
   ]
  },
  {
   "cell_type": "markdown",
   "metadata": {},
   "source": [
    "# Data Visualization in Python <a name=\"visualizations\"/>\n",
    "\n",
    "Data visualization is the presentation of data in a pictorial or graphical format. It enables decision makers to see analytics presented visually, so they can grasp difficult concepts or identify new patterns. Patterns, trends and correlations that might go undetected in text-based data can be exposed and recognized easier with data visualization"
   ]
  },
  {
   "cell_type": "code",
   "execution_count": 66,
   "metadata": {
    "collapsed": true
   },
   "outputs": [],
   "source": [
    "import matplotlib.pyplot as plt"
   ]
  },
  {
   "cell_type": "markdown",
   "metadata": {},
   "source": [
    "### Histogram <a name=\"Histogram\"></a>\n",
    "A histogram is an accurate representation of the distribution of numerical data.<br>\n",
    "To draw a histogram for any column, you have to specify the column name followed by the method hist()"
   ]
  },
  {
   "cell_type": "code",
   "execution_count": 67,
   "metadata": {},
   "outputs": [
    {
     "data": {
      "text/html": [
       "<div>\n",
       "<style scoped>\n",
       "    .dataframe tbody tr th:only-of-type {\n",
       "        vertical-align: middle;\n",
       "    }\n",
       "\n",
       "    .dataframe tbody tr th {\n",
       "        vertical-align: top;\n",
       "    }\n",
       "\n",
       "    .dataframe thead th {\n",
       "        text-align: right;\n",
       "    }\n",
       "</style>\n",
       "<table border=\"1\" class=\"dataframe\">\n",
       "  <thead>\n",
       "    <tr style=\"text-align: right;\">\n",
       "      <th></th>\n",
       "      <th>PassengerId</th>\n",
       "      <th>Survived</th>\n",
       "      <th>Pclass</th>\n",
       "      <th>Name</th>\n",
       "      <th>Sex</th>\n",
       "      <th>Age</th>\n",
       "      <th>SibSp</th>\n",
       "      <th>Parch</th>\n",
       "      <th>Ticket</th>\n",
       "      <th>Fare</th>\n",
       "      <th>Cabin</th>\n",
       "      <th>Embarked</th>\n",
       "    </tr>\n",
       "  </thead>\n",
       "  <tbody>\n",
       "    <tr>\n",
       "      <th>0</th>\n",
       "      <td>1</td>\n",
       "      <td>0</td>\n",
       "      <td>3</td>\n",
       "      <td>Braund, Mr. Owen Harris</td>\n",
       "      <td>male</td>\n",
       "      <td>22.0</td>\n",
       "      <td>1</td>\n",
       "      <td>0</td>\n",
       "      <td>A/5 21171</td>\n",
       "      <td>7.2500</td>\n",
       "      <td>NaN</td>\n",
       "      <td>S</td>\n",
       "    </tr>\n",
       "    <tr>\n",
       "      <th>1</th>\n",
       "      <td>2</td>\n",
       "      <td>1</td>\n",
       "      <td>1</td>\n",
       "      <td>Cumings, Mrs. John Bradley (Florence Briggs Th...</td>\n",
       "      <td>female</td>\n",
       "      <td>38.0</td>\n",
       "      <td>1</td>\n",
       "      <td>0</td>\n",
       "      <td>PC 17599</td>\n",
       "      <td>71.2833</td>\n",
       "      <td>C85</td>\n",
       "      <td>C</td>\n",
       "    </tr>\n",
       "    <tr>\n",
       "      <th>2</th>\n",
       "      <td>3</td>\n",
       "      <td>1</td>\n",
       "      <td>3</td>\n",
       "      <td>Heikkinen, Miss. Laina</td>\n",
       "      <td>female</td>\n",
       "      <td>26.0</td>\n",
       "      <td>0</td>\n",
       "      <td>0</td>\n",
       "      <td>STON/O2. 3101282</td>\n",
       "      <td>7.9250</td>\n",
       "      <td>NaN</td>\n",
       "      <td>S</td>\n",
       "    </tr>\n",
       "    <tr>\n",
       "      <th>3</th>\n",
       "      <td>4</td>\n",
       "      <td>1</td>\n",
       "      <td>1</td>\n",
       "      <td>Futrelle, Mrs. Jacques Heath (Lily May Peel)</td>\n",
       "      <td>female</td>\n",
       "      <td>35.0</td>\n",
       "      <td>1</td>\n",
       "      <td>0</td>\n",
       "      <td>113803</td>\n",
       "      <td>53.1000</td>\n",
       "      <td>C123</td>\n",
       "      <td>S</td>\n",
       "    </tr>\n",
       "    <tr>\n",
       "      <th>4</th>\n",
       "      <td>5</td>\n",
       "      <td>0</td>\n",
       "      <td>3</td>\n",
       "      <td>Allen, Mr. William Henry</td>\n",
       "      <td>male</td>\n",
       "      <td>35.0</td>\n",
       "      <td>0</td>\n",
       "      <td>0</td>\n",
       "      <td>373450</td>\n",
       "      <td>8.0500</td>\n",
       "      <td>NaN</td>\n",
       "      <td>S</td>\n",
       "    </tr>\n",
       "  </tbody>\n",
       "</table>\n",
       "</div>"
      ],
      "text/plain": [
       "   PassengerId  Survived  Pclass  \\\n",
       "0            1         0       3   \n",
       "1            2         1       1   \n",
       "2            3         1       3   \n",
       "3            4         1       1   \n",
       "4            5         0       3   \n",
       "\n",
       "                                                Name     Sex   Age  SibSp  \\\n",
       "0                            Braund, Mr. Owen Harris    male  22.0      1   \n",
       "1  Cumings, Mrs. John Bradley (Florence Briggs Th...  female  38.0      1   \n",
       "2                             Heikkinen, Miss. Laina  female  26.0      0   \n",
       "3       Futrelle, Mrs. Jacques Heath (Lily May Peel)  female  35.0      1   \n",
       "4                           Allen, Mr. William Henry    male  35.0      0   \n",
       "\n",
       "   Parch            Ticket     Fare Cabin Embarked  \n",
       "0      0         A/5 21171   7.2500   NaN        S  \n",
       "1      0          PC 17599  71.2833   C85        C  \n",
       "2      0  STON/O2. 3101282   7.9250   NaN        S  \n",
       "3      0            113803  53.1000  C123        S  \n",
       "4      0            373450   8.0500   NaN        S  "
      ]
     },
     "execution_count": 67,
     "metadata": {},
     "output_type": "execute_result"
    }
   ],
   "source": [
    "titanic_data = pd.read_csv(\"Datasets/train.csv\")\n",
    "titanic_data.head()"
   ]
  },
  {
   "cell_type": "code",
   "execution_count": 68,
   "metadata": {
    "ExecuteTime": {
     "end_time": "2019-02-06T07:37:45.400465Z",
     "start_time": "2019-02-06T07:37:45.018662Z"
    },
    "scrolled": false
   },
   "outputs": [
    {
     "data": {
      "text/plain": [
       "Text(0, 0.5, 'Frequency')"
      ]
     },
     "execution_count": 68,
     "metadata": {},
     "output_type": "execute_result"
    },
    {
     "data": {
      "image/png": "[encoded data removed]",
      "text/plain": [
       "<Figure size 432x288 with 1 Axes>"
      ]
     },
     "metadata": {
      "needs_background": "light"
     },
     "output_type": "display_data"
    }
   ],
   "source": [
    "titanic_data['Age'].hist()\n",
    "plt.title('Frequency distributon of age')\n",
    "plt.xlabel('Age')\n",
    "plt.ylabel('Frequency')"
   ]
  },
  {
   "cell_type": "code",
   "execution_count": 69,
   "metadata": {},
   "outputs": [
    {
     "data": {
      "text/plain": [
       "Text(0, 0.5, 'Frequency')"
      ]
     },
     "execution_count": 69,
     "metadata": {},
     "output_type": "execute_result"
    },
    {
     "data": {
      "image/png": "[encoded data removed]",
      "text/plain": [
       "<Figure size 720x576 with 1 Axes>"
      ]
     },
     "metadata": {
      "needs_background": "light"
     },
     "output_type": "display_data"
    }
   ],
   "source": [
    "titanic_data['Age'].hist(bins=20,figsize=(10,8))\n",
    "plt.title('Frequency distributon of age')\n",
    "plt.xlabel('Age')\n",
    "plt.ylabel('Frequency')"
   ]
  },
  {
   "cell_type": "code",
   "execution_count": 70,
   "metadata": {},
   "outputs": [
    {
     "data": {
      "text/plain": [
       "Text(0, 0.5, 'Frequency')"
      ]
     },
     "execution_count": 70,
     "metadata": {},
     "output_type": "execute_result"
    },
    {
     "data": {
      "image/png": "[encoded data removed]",
      "text/plain": [
       "<Figure size 720x576 with 1 Axes>"
      ]
     },
     "metadata": {
      "needs_background": "light"
     },
     "output_type": "display_data"
    }
   ],
   "source": [
    "titanic_data['Age'].plot.hist(figsize=(10,8),color='darkred',bins=30)\n",
    "plt.title('Frequency distributon of age')\n",
    "plt.xlabel('Age')\n",
    "plt.ylabel('Frequency')"
   ]
  },
  {
   "cell_type": "code",
   "execution_count": 78,
   "metadata": {},
   "outputs": [
    {
     "data": {
      "text/plain": [
       "Text(0.5, 1.0, 'Scatter plot between Age and Fare')"
      ]
     },
     "execution_count": 78,
     "metadata": {},
     "output_type": "execute_result"
    },
    {
     "data": {
      "image/png": "[encoded data removed]",
      "text/plain": [
       "<Figure size 576x432 with 1 Axes>"
      ]
     },
     "metadata": {
      "needs_background": "light"
     },
     "output_type": "display_data"
    }
   ],
   "source": [
    "titanic_data.plot.scatter(x='Age', y='Fare', figsize=(8,6),color='teal')\n",
    "plt.title('Scatter plot between Age and Fare')"
   ]
  },
  {
   "cell_type": "code",
   "execution_count": 79,
   "metadata": {},
   "outputs": [
    {
     "data": {
      "text/plain": [
       "Text(0, 0.5, 'Frequency')"
      ]
     },
     "execution_count": 79,
     "metadata": {},
     "output_type": "execute_result"
    },
    {
     "data": {
      "image/png": "[encoded data removed]",
      "text/plain": [
       "<Figure size 720x576 with 1 Axes>"
      ]
     },
     "metadata": {
      "needs_background": "light"
     },
     "output_type": "display_data"
    }
   ],
   "source": [
    "box=titanic_data.plot.box(figsize=(10,8),vert=True)\n",
    "plt.title('Boxplots of numerical variables')\n",
    "plt.xlabel('Column name')\n",
    "plt.ylabel('Frequency')"
   ]
  },
  {
   "cell_type": "markdown",
   "metadata": {},
   "source": [
    "### Bar Plots <a name=\"Bar\"></a>\n",
    "A bar chart or bar graph is a chart or graph that presents categorical data with rectangular bars with heights or lengths proportional to the values that they represent"
   ]
  },
  {
   "cell_type": "code",
   "execution_count": 81,
   "metadata": {
    "scrolled": true
   },
   "outputs": [
    {
     "data": {
      "text/plain": [
       "<matplotlib.axes._subplots.AxesSubplot at 0x2ab71498748>"
      ]
     },
     "execution_count": 81,
     "metadata": {},
     "output_type": "execute_result"
    },
    {
     "data": {
      "image/png": "[encoded data removed]",
      "text/plain": [
       "<Figure size 432x288 with 1 Axes>"
      ]
     },
     "metadata": {
      "needs_background": "light"
     },
     "output_type": "display_data"
    }
   ],
   "source": [
    "import seaborn as sns\n",
    "sns.barplot(x='Sex', y='Survived', data=titanic_data, hue='Sex')"
   ]
  }
 ],
 "metadata": {
  "_draft": {
   "nbviewer_url": "https://gist.github.com/b6070e2aeaed3915b1b08fe28174b15c"
  },
  "gist": {
   "data": {
    "description": "Python Notebook | Beginner.ipynb",
    "public": true
   },
   "id": "b6070e2aeaed3915b1b08fe28174b15c"
  },
  "kernelspec": {
   "display_name": "Python 3",
   "language": "python",
   "name": "python3"
  },
  "language_info": {
   "codemirror_mode": {
    "name": "ipython",
    "version": 3
   },
   "file_extension": ".py",
   "mimetype": "text/x-python",
   "name": "python",
   "nbconvert_exporter": "python",
   "pygments_lexer": "ipython3",
   "version": "3.7.6"
  }
 },
 "nbformat": 4,
 "nbformat_minor": 2
}
